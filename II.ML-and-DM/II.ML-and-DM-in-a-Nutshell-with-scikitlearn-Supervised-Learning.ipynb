{
 "metadata": {
  "name": "",
  "signature": "sha256:0be4ac838ee8d091fb26fdffe035d3db78d57941334a0659c2049ce48ebec76e"
 },
 "nbformat": 3,
 "nbformat_minor": 0,
 "worksheets": [
  {
   "cells": [
    {
     "cell_type": "markdown",
     "metadata": {
      "internals": {
       "slide_helper": "subslide_end",
       "slide_type": "subslide"
      },
      "slide_helper": "subslide_end",
      "slideshow": {
       "slide_type": "slide"
      }
     },
     "source": [
      "# Machine Learning in a Nutshell with scikit-learn\n",
      "    \n",
      "## Supervised Learning - Classification and Regression\n",
      "\n",
      "\n",
      "by \n",
      "\n",
      "[__Michael Granitzer__ (michael.granitzer@uni-passau.de)]( http://www.mendeley.com/profiles/michael-granitzer/)\n",
      "\n",
      "with examples taken from the scikit-learn documentation under http://scikit-learn.org/stable/\n",
      "\n",
      "\n",
      "__License__\n",
      "\n",
      "This work is licensed under a [Creative Commons Attribution 3.0 Unported License](http://creativecommons.org/licenses/by/3.0/)\n"
     ]
    },
    {
     "cell_type": "markdown",
     "metadata": {
      "internals": {
       "slide_helper": "subslide_end",
       "slide_type": "subslide"
      },
      "slide_helper": "slide_end",
      "slideshow": {
       "slide_type": "subslide"
      }
     },
     "source": [
      "## Outline\n",
      "\n",
      "1. Overview\n",
      "2. Linear Regression without scikit-learn\n",
      "3. Supervised Learning in scikit learn\n",
      "4. Model Selection and Performance Evaluation\n",
      "3. A scikit-learn Example for Optical Character Recognition (OCR)\n",
      "\n",
      "You may also refer to the [scikit-learning Introduction](http://scikit-learn.org/stable/tutorial/basic/tutorial.html)"
     ]
    },
    {
     "cell_type": "heading",
     "level": 1,
     "metadata": {
      "heading_collapsed": false,
      "internals": {
       "slide_type": "subslide"
      },
      "slideshow": {
       "slide_type": "slide"
      }
     },
     "source": [
      "Overview"
     ]
    },
    {
     "cell_type": "markdown",
     "metadata": {
      "internals": {
       "frag_number": 3
      },
      "slideshow": {
       "slide_type": "fragment"
      }
     },
     "source": [
      "Supervised Learning wants to predict one feature/attribute of a data set.\n",
      "\n",
      "* If the attribute is nominal supervised learning is called **classification**. e.g. assigning the class a flower belongs to based on its geometric attributes (e.g. width and length)\n",
      "\n",
      "* If the attribut is ratio scaled (or interval scaled) supervised learning is called **regression**. e.g. predicting the lenght of a flower based on its width.\n",
      "\n",
      "For a more formal introduction of the problem setting please refer to [Benno Steins Lecture Notes on Machine Learning](http://www.uni-weimar.de/en/media/chairs/webis/teaching/lecturenotes/#machine-learning)"
     ]
    },
    {
     "cell_type": "code",
     "collapsed": false,
     "input": [
      "import sklearn"
     ],
     "language": "python",
     "metadata": {
      "internals": {
       "frag_helper": "fragment_end",
       "frag_number": 4,
       "slide_helper": "subslide_end"
      },
      "slide_helper": "slide_end",
      "slideshow": {
       "slide_type": "fragment"
      }
     },
     "outputs": [],
     "prompt_number": 43
    },
    {
     "cell_type": "heading",
     "level": 1,
     "metadata": {
      "heading_collapsed": false,
      "internals": {
       "frag_helper": "fragment_end",
       "frag_number": 4,
       "slide_type": "subslide"
      },
      "slideshow": {
       "slide_type": "slide"
      }
     },
     "source": [
      "Supervised Learning with Linear Models"
     ]
    },
    {
     "cell_type": "markdown",
     "metadata": {
      "internals": {
       "frag_helper": "fragment_end",
       "frag_number": 6,
       "slide_helper": "subslide_end"
      },
      "slide_helper": "subslide_end",
      "slideshow": {
       "slide_type": "fragment"
      }
     },
     "source": [
      "This section introdcuses supervised learning with a highly common approach, namely using linear models.\n",
      "\n",
      "Given our car example, how can we predict the price from horsepower and mileage?\n",
      "\n",
      "|Customer Group ($x_0$)|  Mileage ($x_1$) | Power ($x_2$) | Price ($x_3$) |\n",
      "|-|-|-|-|-|\n",
      "|Family|  50,000 | 132 | 5,000|\n",
      "|Upper Class |  10,000 | 332 | 50,000|\n",
      "|Family |  80,000 | 90 | 15,000|\n",
      "|$\\ldots$| $\\ldots$  | $\\ldots$| $\\ldots$ | \n",
      "|?|  500 | 4000 | ?|\n",
      "\n"
     ]
    },
    {
     "cell_type": "heading",
     "level": 2,
     "metadata": {
      "heading_collapsed": false,
      "internals": {
       "frag_helper": "fragment_end",
       "frag_number": 6,
       "slide_type": "subslide"
      },
      "slideshow": {
       "slide_type": "subslide"
      }
     },
     "source": [
      "Notations and Model"
     ]
    },
    {
     "cell_type": "markdown",
     "metadata": {
      "internals": {
       "frag_helper": "fragment_end",
       "frag_number": 8
      },
      "slideshow": {
       "slide_type": "fragment"
      }
     },
     "source": [
      "Some notations. So lets denote\n",
      "\n",
      "- every attribute with $x^{(j)}$ where $j$ is the index of the column/attribute. \n",
      "- $x_i$ as the attribute vector of the $i^{(th)}$ example, i.e. $x_i=(1, x^{(1)}, x^{(2)}, x^{(3)})$ (Note that we excluded $x_{(0)}$ for *this* example and set the first dimension to 1 as constant).\n",
      "\n",
      "Now lets assume the price is a linear combination of power and mileage. So we can write\n",
      "\n",
      "$$\n",
      "x^{(3)}= w^{(0)} + w^{(1)} * x^{(1)} + w^{(2)} * x^{(2)} = w^T \\cdot x_i\n",
      "$$\n",
      "\n",
      "with $w$ being called a weight vector resp. our **model**. Note that the first dimension represents the offset/bias.\n"
     ]
    },
    {
     "cell_type": "markdown",
     "metadata": {
      "internals": {
       "frag_helper": "fragment_end",
       "frag_number": 9,
       "slide_helper": "subslide_end"
      },
      "slide_helper": "subslide_end",
      "slideshow": {
       "slide_type": "fragment"
      }
     },
     "source": [
      "To differentiate between dependent and independent variables a linear model is often written as:\n",
      "\n",
      "$$\n",
      "y_i = w^T \\cdot x_i\n",
      "$$\n",
      "where subscript $i$ denotes the $i^{(th)}$ example."
     ]
    },
    {
     "cell_type": "markdown",
     "metadata": {
      "internals": {
       "frag_helper": "fragment_end",
       "frag_number": 9,
       "slide_type": "subslide"
      },
      "slideshow": {
       "slide_type": "subslide"
      }
     },
     "source": [
      "<div class = \"alert alert-info\">\n",
      "How would you adjust the weights for estimating the price?\n",
      "</div>"
     ]
    },
    {
     "cell_type": "markdown",
     "metadata": {
      "internals": {
       "frag_helper": "fragment_end",
       "frag_number": 11,
       "slide_helper": "subslide_end"
      },
      "slide_helper": "subslide_end",
      "slideshow": {
       "slide_type": "fragment"
      }
     },
     "source": [
      "**Observation**\n",
      "\n",
      "1. if $y_i > w^T \\cdot x_i $ &nbsp; the weights have been too low and need to be increased. \n",
      "2. if $y_i < w^T \\cdot x_i $ &nbsp; the weights have been too high and need to be decreased. \n",
      "3. if $y_i < w^T \\cdot x_i $ and $x_i^{(k)}>x_i^{(j)}$, then $w_i^{(k)}$ should be decreased stronger than $w_i^{(j)}$ (and vice versa for $y_i > w^T \\cdot x_i $ )\n",
      "\n",
      "\n",
      "\n",
      "\n"
     ]
    },
    {
     "cell_type": "markdown",
     "metadata": {
      "internals": {
       "frag_helper": "fragment_end",
       "frag_number": 11,
       "slide_helper": "subslide_end",
       "slide_type": "subslide"
      },
      "slide_helper": "subslide_end",
      "slideshow": {
       "slide_type": "subslide"
      }
     },
     "source": [
      "**Least Mean Square Update Rule (Widrow Hoff Rule)**\n",
      "\n",
      "To quantify the amount of increase/decrease, we can formalize the cost of predicting $y_i$ wrong as sum of the squared error (SSE).\n",
      "\n",
      "$$\n",
      "cost(w,X) = \\sum_{y_i, x_i \\in X}(w^T \\cdot x_i-y_i)^2 = \\sum_{y_i, x_i \\in X}error_i(w)^2\n",
      "$$ \n",
      "\n",
      "The optimal $w$ is obtained when the cost becomes minimal, i.e.\n",
      "\n",
      "$$\n",
      "\\frac{\\partial cost(w,X)}{\\partial w} = 0\n",
      "$$ \n",
      "\n",
      "Solving the partial derivation (see [Andrew Ng's Lecture notes](http://cs229.stanford.edu/notes/cs229-notes1.pdf) for details) yields the following LMS update rule for $w$:\n",
      "\n",
      "$$ \n",
      "w^{(k)} = w^{(k)} - \\eta \\cdot error_i(w) \\cdot x_i^{(k)}\n",
      "$$\n"
     ]
    },
    {
     "cell_type": "markdown",
     "metadata": {
      "internals": {
       "frag_helper": "fragment_end",
       "frag_number": 11,
       "slide_helper": "subslide_end",
       "slide_type": "subslide"
      },
      "slide_helper": "subslide_end",
      "slideshow": {
       "slide_type": "subslide"
      }
     },
     "source": [
      "**Batch and Stochastic Gradient Descent**\n",
      "\n",
      "- Iterating over all examples $x_i\\in X$ and applying the LMS update rule is called **stochastic gradient descent**\n",
      "- Summing the error over all examples and applying the LMS update rule once for all examples is called **batch gradient descent**"
     ]
    },
    {
     "cell_type": "heading",
     "level": 2,
     "metadata": {
      "heading_collapsed": false,
      "internals": {
       "frag_helper": "fragment_end",
       "frag_number": 11,
       "slide_type": "subslide"
      },
      "slideshow": {
       "slide_type": "subslide"
      }
     },
     "source": [
      "Least Mean Square Algorithm in Python"
     ]
    },
    {
     "cell_type": "code",
     "collapsed": false,
     "input": [
      "import numpy as np"
     ],
     "language": "python",
     "metadata": {
      "internals": {
       "frag_helper": "fragment_end",
       "frag_number": 15
      },
      "slideshow": {
       "slide_type": "fragment"
      }
     },
     "outputs": [],
     "prompt_number": 44
    },
    {
     "cell_type": "code",
     "collapsed": false,
     "input": [
      "def lms(data,eta=0.1, iterations=1000, bias=True):\n",
      "    \"\"\"\n",
      "    data: tuple containing the data matrix x and target values y\n",
      "    eta: learning rate. default is 0.1\n",
      "    bias: True, if a bias term should be included\n",
      "    iterations: do some fixed amount of iterations. no need for more sophisticated stopping criterions\n",
      "    \"\"\"\n",
      "    target = data[1]\n",
      "    data = data[0]\n",
      "    dim = data.shape[1]         # get the number of attributes/features\n",
      "    num_points = data.shape[0]\n",
      "    if bias:                    # when considering the bias term we have to add w_0\n",
      "        dim+=1\n",
      "        data = np.concatenate(\n",
      "                [\n",
      "                 data, \n",
      "                 np.ones(num_points).reshape(num_points,1)\n",
      "                ]\n",
      "                ,axis=1)    # add bias term as attribute with value 1 for every data point\n",
      "    w = np.ones(dim)    # that is the weight vector as column vector    \n",
      "    for i in range(iterations):\n",
      "        next = np.random.randint(num_points)  #next example to work on\n",
      "        predict = np.dot(data[next,],w)       #predict the value of next based on the current hypothesis\n",
      "        error = target[next]-predict          # estimate the error\n",
      "        w = w + eta*error*data[next,]         # inner loop is done by numpy\n",
      "    \n",
      "    return w"
     ],
     "language": "python",
     "metadata": {
      "internals": {
       "frag_helper": "fragment_end",
       "frag_number": 16,
       "slide_helper": "subslide_end"
      },
      "slide_helper": "subslide_end",
      "slideshow": {
       "slide_type": "fragment"
      }
     },
     "outputs": [],
     "prompt_number": 45
    },
    {
     "cell_type": "code",
     "collapsed": false,
     "input": [
      "%pylab inline\n",
      "#create data and plot it\n",
      "toy = np.arange(10).reshape((10,1))\n",
      "target = toy*0.2 + 0.5\n",
      "plot (toy, target, 'g.')\n",
      "show()\n",
      "print toy"
     ],
     "language": "python",
     "metadata": {
      "internals": {
       "frag_helper": "fragment_end",
       "frag_number": 16,
       "slide_helper": "subslide_end",
       "slide_type": "subslide"
      },
      "slide_helper": "subslide_end",
      "slideshow": {
       "slide_type": "subslide"
      }
     },
     "outputs": [
      {
       "output_type": "stream",
       "stream": "stdout",
       "text": [
        "Populating the interactive namespace from numpy and matplotlib\n"
       ]
      },
      {
       "output_type": "stream",
       "stream": "stderr",
       "text": [
        "WARNING: pylab import has clobbered these variables: ['indices', 'beta', 'logistic', 'clf', 'test']\n",
        "`%matplotlib` prevents importing * from pylab and numpy\n"
       ]
      },
      {
       "metadata": {},
       "output_type": "display_data",
       "png": "[encoded data removed]",
       "text": [
        "<matplotlib.figure.Figure at 0x25b0bac8>"
       ]
      },
      {
       "output_type": "stream",
       "stream": "stdout",
       "text": [
        "[[0]\n",
        " [1]\n",
        " [2]\n",
        " [3]\n",
        " [4]\n",
        " [5]\n",
        " [6]\n",
        " [7]\n",
        " [8]\n",
        " [9]]\n"
       ]
      }
     ],
     "prompt_number": 46
    },
    {
     "cell_type": "code",
     "collapsed": false,
     "input": [
      "#run lms with parameters that work (see practical tips)\n",
      "data_zipped = (toy,target)\n",
      "print lms(data_zipped,iterations=10000,eta=0.001)"
     ],
     "language": "python",
     "metadata": {
      "internals": {
       "frag_helper": "fragment_end",
       "frag_number": 16,
       "slide_type": "subslide"
      },
      "slideshow": {
       "slide_type": "subslide"
      }
     },
     "outputs": [
      {
       "output_type": "stream",
       "stream": "stdout",
       "text": [
        "[ 0.1966249   0.52183439]\n"
       ]
      }
     ],
     "prompt_number": 47
    },
    {
     "cell_type": "code",
     "collapsed": false,
     "input": [
      "w = lms(data_zipped,iterations=1000,eta=0.001)\n",
      "plot(toy,target,'g.')\n",
      "plot(toy,toy*w[0]+w[1],'r')\n",
      "print w\n",
      "show()"
     ],
     "language": "python",
     "metadata": {
      "internals": {
       "frag_helper": "fragment_end",
       "frag_number": 19,
       "slide_helper": "subslide_end"
      },
      "slide_helper": "subslide_end",
      "slideshow": {
       "slide_type": "fragment"
      }
     },
     "outputs": [
      {
       "output_type": "stream",
       "stream": "stdout",
       "text": [
        "[ 0.15543803  0.77291081]\n"
       ]
      },
      {
       "metadata": {},
       "output_type": "display_data",
       "png": "[encoded data removed]",
       "text": [
        "<matplotlib.figure.Figure at 0x25bbf748>"
       ]
      }
     ],
     "prompt_number": 48
    },
    {
     "cell_type": "markdown",
     "metadata": {
      "internals": {
       "frag_helper": "fragment_end",
       "frag_number": 19,
       "slide_helper": "subslide_end",
       "slide_type": "subslide"
      },
      "slide_helper": "slide_end",
      "slideshow": {
       "slide_type": "subslide"
      }
     },
     "source": [
      "##### Remarks on Parameter Settings\n",
      "   * In the run above we get close, but do not find the correct solution. Increasing the number of iterations leads to the correct solution if $\\eta$ is small enough. \n",
      "   * chosing $\\eta$ larger needs less iterations. However, a too large $\\eta$ yields too large updates and the LMS algorithm might diverge. So $\\eta$ must be sufficiently small"
     ]
    },
    {
     "cell_type": "heading",
     "level": 2,
     "metadata": {
      "heading_collapsed": false,
      "internals": {
       "frag_helper": "fragment_end",
       "frag_number": 19,
       "slide_type": "subslide"
      },
      "slideshow": {
       "slide_type": "slide"
      }
     },
     "source": [
      "Exercise Least Mean Square Algorithm"
     ]
    },
    {
     "cell_type": "markdown",
     "metadata": {
      "internals": {
       "frag_helper": "fragment_end",
       "frag_number": 22,
       "slide_helper": "subslide_end"
      },
      "slide_helper": "subslide_end",
      "slideshow": {
       "slide_type": "fragment"
      }
     },
     "source": [
      "Import the Boston Housing Data set in sckit learn and apply the above LMS algorithm to predict the attribute \"MEDV: Median value of owner-occupied homes in \\$1000's\". Answer the following questions:\n",
      "\n",
      "- How accurate is the model for predicting prices?\n",
      "- How could you estimate the goodness of the fit?\n",
      "- Play with the paramters to compare runtime vs. accuracy.\n",
      "- Evaluate the impact of feature scaling\n",
      "\n",
      "The solution can be found under [II.ML-and-DM-Example-LMS.ipynb](II.ML-and-DM-Example-LMS.ipynb)"
     ]
    },
    {
     "cell_type": "markdown",
     "metadata": {
      "internals": {
       "frag_helper": "fragment_end",
       "frag_number": 22,
       "slide_type": "subslide"
      },
      "slideshow": {
       "slide_type": "subslide"
      }
     },
     "source": [
      "**Notes/Code snippets to use:**\n",
      "\n",
      "- try to start with one dimension only and compare its predictive power for a price\n",
      "- plot the data with functions from below to get an idea on the data quality"
     ]
    },
    {
     "cell_type": "code",
     "collapsed": false,
     "input": [
      "#import the data set\n",
      "import sklearn.datasets as datasets\n",
      "ds = datasets.load_boston()"
     ],
     "language": "python",
     "metadata": {
      "internals": {
       "frag_helper": "fragment_end",
       "frag_number": 24
      },
      "slideshow": {
       "slide_type": "fragment"
      }
     },
     "outputs": [],
     "prompt_number": 49
    },
    {
     "cell_type": "code",
     "collapsed": false,
     "input": [
      "#do a boxplot\n",
      "boxplot(ds.data[:,12],vert=False, labels=[\"Boxplot of \" + ds.feature_names[12]])"
     ],
     "language": "python",
     "metadata": {
      "internals": {
       "frag_helper": "fragment_end",
       "frag_number": 25
      },
      "slideshow": {
       "slide_type": "fragment"
      }
     },
     "outputs": [
      {
       "metadata": {},
       "output_type": "pyout",
       "prompt_number": 50,
       "text": [
        "{'boxes': [<matplotlib.lines.Line2D at 0x25fa8cc0>],\n",
        " 'caps': [<matplotlib.lines.Line2D at 0x25fada58>,\n",
        "  <matplotlib.lines.Line2D at 0x25fadfd0>],\n",
        " 'fliers': [<matplotlib.lines.Line2D at 0x25fb2b00>],\n",
        " 'means': [],\n",
        " 'medians': [<matplotlib.lines.Line2D at 0x25fb2588>],\n",
        " 'whiskers': [<matplotlib.lines.Line2D at 0x25fa8eb8>,\n",
        "  <matplotlib.lines.Line2D at 0x25fad4e0>]}"
       ]
      },
      {
       "metadata": {},
       "output_type": "display_data",
       "png": "[encoded data removed]",
       "text": [
        "<matplotlib.figure.Figure at 0x25c27278>"
       ]
      }
     ],
     "prompt_number": 50
    },
    {
     "cell_type": "code",
     "collapsed": false,
     "input": [
      "#plot two attributes against each other\n",
      "attribute1 = 1 \n",
      "attribute2 = 2 \n",
      "plot(ds.data[:,attribute1],ds.data[:,attribute2],\".\")"
     ],
     "language": "python",
     "metadata": {
      "internals": {
       "frag_helper": "fragment_end",
       "frag_number": 26,
       "slide_helper": "subslide_end"
      },
      "slide_helper": "slide_end",
      "slideshow": {
       "slide_type": "fragment"
      }
     },
     "outputs": [
      {
       "metadata": {},
       "output_type": "pyout",
       "prompt_number": 51,
       "text": [
        "[<matplotlib.lines.Line2D at 0x261eaba8>]"
       ]
      },
      {
       "metadata": {},
       "output_type": "display_data",
       "png": "[encoded data removed]",
       "text": [
        "<matplotlib.figure.Figure at 0x25f945c0>"
       ]
      }
     ],
     "prompt_number": 51
    },
    {
     "cell_type": "heading",
     "level": 1,
     "metadata": {
      "heading_collapsed": false,
      "internals": {
       "frag_helper": "fragment_end",
       "frag_number": 26,
       "slide_type": "subslide"
      },
      "slideshow": {
       "slide_type": "slide"
      }
     },
     "source": [
      "Supervised Learning in scikit learn"
     ]
    },
    {
     "cell_type": "markdown",
     "metadata": {
      "internals": {
       "frag_helper": "fragment_end",
       "frag_number": 28,
       "slide_helper": "subslide_end"
      },
      "slide_helper": "subslide_end",
      "slideshow": {
       "slide_type": "fragment"
      }
     },
     "source": [
      "sklearn terminology:\n",
      "- Machine learning models are called `estimator`, which is derived from statistics. It can be thought of an object, that learns from data.\n",
      "- An estimator class for supervised learning implements two methods\n",
      "  1. `fit(X,y)` which fits the estimator to the data `X` given the target values `y`\n",
      "  2. `predict(T)` which predicts the target for the data `T`\n",
      "  \n",
      "  \n",
      "This section is based on the scikit-learn supervised learning tutorial under http://scikit-learn.org/stable/tutorial/statistical_inference/supervised_learning.html"
     ]
    },
    {
     "cell_type": "heading",
     "level": 2,
     "metadata": {
      "heading_collapsed": false,
      "internals": {
       "frag_helper": "fragment_end",
       "frag_number": 28,
       "slide_type": "subslide"
      },
      "slideshow": {
       "slide_type": "subslide"
      }
     },
     "source": [
      "The IRIS Data Set"
     ]
    },
    {
     "cell_type": "markdown",
     "metadata": {
      "internals": {
       "frag_helper": "fragment_end",
       "frag_number": 28,
       "slide_helper": "subslide_end"
      },
      "slide_helper": "subslide_end",
      "slideshow": {
       "slide_type": "-"
      }
     },
     "source": [
      "For introducing the different supervised learners we will use the IRIS data set.\n",
      "\n",
      "The iris data set characterises iris-flowers into three sub-groups according to length and width of the outer (petal) and inner (sepal) leaves of a flower.\n",
      "\n",
      "**Sepal vs. Petal**\n",
      "\n",
      "\n",
      "<img src=\"http://upload.wikimedia.org/wikipedia/commons/thumb/7/78/Petal-sepal.jpg/220px-Petal-sepal.jpg\"/>\n",
      "\n",
      "**The three classes (setosa, versicolor, virginica)**\n",
      "\n",
      "<div class =\"img-responsive\" style=\"display:inline\" >\n",
      "<img src=\"http://upload.wikimedia.org/wikipedia/commons/thumb/5/56/Kosaciec_szczecinkowaty_Iris_setosa.jpg/220px-Kosaciec_szczecinkowaty_Iris_setosa.jpg\" width=\"30%\"/>\n",
      "<img src=\"http://upload.wikimedia.org/wikipedia/commons/thumb/4/41/Iris_versicolor_3.jpg/220px-Iris_versicolor_3.jpg\" width=\"30%\"/>\n",
      "<img src=\"http://upload.wikimedia.org/wikipedia/commons/thumb/9/9f/Iris_virginica.jpg/220px-Iris_virginica.jpg\" width=\"30%\"  height=\"10%\" style=\"overflow:hidden\"/>\n",
      "</div>\n",
      "\n",
      "\n",
      "Images from Wikipedia\n"
     ]
    },
    {
     "cell_type": "code",
     "collapsed": false,
     "input": [
      "import numpy as np\n",
      "from sklearn import datasets\n",
      "iris = datasets.load_iris()\n",
      "print \"Classes:\", np.unique(iris.target)\n",
      "print iris[\"DESCR\"]"
     ],
     "language": "python",
     "metadata": {
      "internals": {
       "frag_helper": "fragment_end",
       "frag_number": 28,
       "slide_helper": "subslide_end",
       "slide_type": "subslide"
      },
      "slide_helper": "subslide_end",
      "slideshow": {
       "slide_type": "subslide"
      }
     },
     "outputs": [
      {
       "output_type": "stream",
       "stream": "stdout",
       "text": [
        "Classes: [0 1 2]\n",
        "Iris Plants Database\n",
        "\n",
        "Notes\n",
        "-----\n",
        "Data Set Characteristics:\n",
        "    :Number of Instances: 150 (50 in each of three classes)\n",
        "    :Number of Attributes: 4 numeric, predictive attributes and the class\n",
        "    :Attribute Information:\n",
        "        - sepal length in cm\n",
        "        - sepal width in cm\n",
        "        - petal length in cm\n",
        "        - petal width in cm\n",
        "        - class:\n",
        "                - Iris-Setosa\n",
        "                - Iris-Versicolour\n",
        "                - Iris-Virginica\n",
        "    :Summary Statistics:\n",
        "    ============== ==== ==== ======= ===== ====================\n",
        "                    Min  Max   Mean    SD   Class Correlation\n",
        "    ============== ==== ==== ======= ===== ====================\n",
        "    sepal length:   4.3  7.9   5.84   0.83    0.7826\n",
        "    sepal width:    2.0  4.4   3.05   0.43   -0.4194\n",
        "    petal length:   1.0  6.9   3.76   1.76    0.9490  (high!)\n",
        "    petal width:    0.1  2.5   1.20  0.76     0.9565  (high!)\n",
        "    ============== ==== ==== ======= ===== ====================\n",
        "    :Missing Attribute Values: None\n",
        "    :Class Distribution: 33.3% for each of 3 classes.\n",
        "    :Creator: R.A. Fisher\n",
        "    :Donor: Michael Marshall (MARSHALL%PLU@io.arc.nasa.gov)\n",
        "    :Date: July, 1988\n",
        "\n",
        "This is a copy of UCI ML iris datasets.\n",
        "http://archive.ics.uci.edu/ml/datasets/Iris\n",
        "\n",
        "The famous Iris database, first used by Sir R.A Fisher\n",
        "\n",
        "This is perhaps the best known database to be found in the\n",
        "pattern recognition literature.  Fisher's paper is a classic in the field and\n",
        "is referenced frequently to this day.  (See Duda & Hart, for example.)  The\n",
        "data set contains 3 classes of 50 instances each, where each class refers to a\n",
        "type of iris plant.  One class is linearly separable from the other 2; the\n",
        "latter are NOT linearly separable from each other.\n",
        "\n",
        "References\n",
        "----------\n",
        "   - Fisher,R.A. \"The use of multiple measurements in taxonomic problems\"\n",
        "     Annual Eugenics, 7, Part II, 179-188 (1936); also in \"Contributions to\n",
        "     Mathematical Statistics\" (John Wiley, NY, 1950).\n",
        "   - Duda,R.O., & Hart,P.E. (1973) Pattern Classification and Scene Analysis.\n",
        "     (Q327.D83) John Wiley & Sons.  ISBN 0-471-22361-1.  See page 218.\n",
        "   - Dasarathy, B.V. (1980) \"Nosing Around the Neighborhood: A New System\n",
        "     Structure and Classification Rule for Recognition in Partially Exposed\n",
        "     Environments\".  IEEE Transactions on Pattern Analysis and Machine\n",
        "     Intelligence, Vol. PAMI-2, No. 1, 67-71.\n",
        "   - Gates, G.W. (1972) \"The Reduced Nearest Neighbor Rule\".  IEEE Transactions\n",
        "     on Information Theory, May 1972, 431-433.\n",
        "   - See also: 1988 MLC Proceedings, 54-64.  Cheeseman et al\"s AUTOCLASS II\n",
        "     conceptual clustering system finds 3 classes in the data.\n",
        "   - Many, many more ...\n",
        "\n"
       ]
      }
     ],
     "prompt_number": 52
    },
    {
     "cell_type": "code",
     "collapsed": false,
     "input": [
      "import pandas as pd\n",
      "from pandas.tools.plotting import scatter_matrix\n",
      "df = pd.DataFrame(iris.data, columns=iris.feature_names)\n",
      "plt = scatter_matrix(df, alpha=0.2,  diagonal='kde')"
     ],
     "language": "python",
     "metadata": {
      "internals": {
       "frag_helper": "fragment_end",
       "frag_number": 28,
       "slide_helper": "subslide_end",
       "slide_type": "subslide"
      },
      "slide_helper": "subslide_end",
      "slideshow": {
       "slide_type": "subslide"
      }
     },
     "outputs": [
      {
       "metadata": {},
       "output_type": "display_data",
       "png": "[encoded data removed]",
       "text": [
        "<matplotlib.figure.Figure at 0x261f20f0>"
       ]
      }
     ],
     "prompt_number": 53
    },
    {
     "cell_type": "heading",
     "level": 2,
     "metadata": {
      "heading_collapsed": false,
      "internals": {
       "frag_helper": "fragment_end",
       "frag_number": 28,
       "slide_type": "subslide"
      },
      "slideshow": {
       "slide_type": "subslide"
      }
     },
     "source": [
      "k- Nearest Neighbor Classifier (KNN) "
     ]
    },
    {
     "cell_type": "markdown",
     "metadata": {
      "internals": {
       "frag_helper": "fragment_end",
       "frag_number": 34,
       "slide_helper": "subslide_end"
      },
      "slide_helper": "subslide_end",
      "slideshow": {
       "slide_type": "fragment"
      }
     },
     "source": [
      "Is one of the simplest classifiers working on nominal targets $y$. \n",
      "\n",
      "1. **The fitting step** consists of storing every data point `X` and its associated target value `y`. It potentially involves creating index structures for fast lookup.\n",
      "2. **The predicting step** consists of finding the $k$ closest data points in $X$ and selecting the most common target $y$ in those data points."
     ]
    },
    {
     "cell_type": "markdown",
     "metadata": {
      "internals": {
       "frag_helper": "fragment_end",
       "frag_number": 34,
       "slide_type": "subslide"
      },
      "slideshow": {
       "slide_type": "subslide"
      }
     },
     "source": [
      "The following figure shows the decision boundary of the IRIS data on the first two dimensions (original source is available under http://scikit-learn.org/stable/auto_examples/neighbors/plot_classification.html)"
     ]
    },
    {
     "cell_type": "code",
     "collapsed": false,
     "input": [
      "%run modules/plot_classification.py"
     ],
     "language": "python",
     "metadata": {
      "internals": {
       "frag_helper": "fragment_end",
       "frag_number": 36,
       "slide_helper": "subslide_end"
      },
      "slide_helper": "subslide_end",
      "slideshow": {
       "slide_type": "fragment"
      }
     },
     "outputs": [
      {
       "output_type": "stream",
       "stream": "stdout",
       "text": [
        "Built-in functions, exceptions, and other objects.\n",
        "\n",
        "Noteworthy: None is the `nil' object; Ellipsis represents `...' in slices.\n"
       ]
      },
      {
       "metadata": {},
       "output_type": "display_data",
       "png": "[encoded data removed]",
       "text": [
        "<matplotlib.figure.Figure at 0x25c27390>"
       ]
      },
      {
       "metadata": {},
       "output_type": "display_data",
       "png": "[encoded data removed]",
       "text": [
        "<matplotlib.figure.Figure at 0x25c27710>"
       ]
      }
     ],
     "prompt_number": 54
    },
    {
     "cell_type": "heading",
     "level": 4,
     "metadata": {
      "heading_collapsed": false,
      "internals": {
       "frag_helper": "fragment_end",
       "frag_number": 36,
       "slide_type": "subslide"
      },
      "slideshow": {
       "slide_type": "subslide"
      }
     },
     "source": [
      "KNN Example"
     ]
    },
    {
     "cell_type": "code",
     "collapsed": false,
     "input": [
      "np.random.seed(0)\n",
      "indices = np.random.permutation(len(iris.data))\n",
      "iris_X_train = iris.data[indices[:-10]]\n",
      "iris_y_train = iris.target[indices[:-10]]\n",
      "iris_X_test  = iris.data[indices[-10:]]\n",
      "iris_y_test  = iris.target[indices[-10:]]\n",
      "# Create and fit a nearest-neighbor classifier\n",
      "from sklearn.neighbors import KNeighborsClassifier\n",
      "knn = KNeighborsClassifier()\n",
      "knn.fit(iris_X_train, iris_y_train) \n",
      "KNeighborsClassifier(algorithm='auto', leaf_size=30, \n",
      "                     metric='minkowski',\n",
      "                     metric_params=None, \n",
      "                     n_neighbors=5, \n",
      "                     p=2, \n",
      "                    weights='uniform')\n",
      "print \"Predicted flower classes:\\t\", knn.predict(iris_X_test)\n",
      "print \"True flower classes     :\\t\", iris_y_test\n",
      "print \"correct classifciation? :\\t\", \\\n",
      "        knn.predict(iris_X_test) == iris_y_test\n",
      "print \"classifc. error (in %)  :\\t\", \\\n",
      "        np.sum(knn.predict(iris_X_test) == iris_y_test)\\\n",
      "        *100.0/len(iris_y_test)"
     ],
     "language": "python",
     "metadata": {
      "internals": {
       "frag_helper": "fragment_end",
       "frag_number": 36,
       "slide_helper": "subslide_end"
      },
      "slide_helper": "subslide_end",
      "slideshow": {
       "slide_type": "-"
      }
     },
     "outputs": [
      {
       "output_type": "stream",
       "stream": "stdout",
       "text": [
        "Predicted flower classes:\t[1 2 1 0 0 0 2 1 2 0]\n",
        "True flower classes     :\t[1 1 1 0 0 0 2 1 2 0]\n",
        "correct classifciation? :\t[ True False  True  True  True  True  True  True  True  True]\n",
        "classifc. error (in %)  :\t90.0\n"
       ]
      }
     ],
     "prompt_number": 55
    },
    {
     "cell_type": "heading",
     "level": 2,
     "metadata": {
      "heading_collapsed": false,
      "internals": {
       "frag_helper": "fragment_end",
       "frag_number": 36,
       "slide_type": "subslide"
      },
      "slideshow": {
       "slide_type": "subslide"
      }
     },
     "source": [
      "Linear Regression in scikit-learn"
     ]
    },
    {
     "cell_type": "markdown",
     "metadata": {
      "internals": {
       "frag_helper": "fragment_end",
       "frag_number": 40
      },
      "slideshow": {
       "slide_type": "fragment"
      }
     },
     "source": [
      "Here we show how the linear regression from above is implemented in scikit-learn. First we load an apropriate dataset. "
     ]
    },
    {
     "cell_type": "markdown",
     "metadata": {
      "internals": {
       "frag_helper": "fragment_end",
       "frag_number": 41
      },
      "slideshow": {
       "slide_type": "fragment"
      }
     },
     "source": [
      "**The diabetes dataset** consists of 10 physiological variables (age, sex, weight, blood pressure) measured on 442 patients, and an indication of disease progression after one year:"
     ]
    },
    {
     "cell_type": "code",
     "collapsed": false,
     "input": [
      "diabetes = datasets.load_diabetes()\n",
      "diabetes_X_train = diabetes.data[:-20]\n",
      "diabetes_X_test  = diabetes.data[-20:]\n",
      "diabetes_y_train = diabetes.target[:-20]\n",
      "diabetes_y_test  = diabetes.target[-20:]"
     ],
     "language": "python",
     "metadata": {
      "internals": {
       "frag_helper": "fragment_end",
       "frag_number": 42,
       "slide_helper": "subslide_end"
      },
      "slide_helper": "subslide_end",
      "slideshow": {
       "slide_type": "fragment"
      }
     },
     "outputs": [],
     "prompt_number": 56
    },
    {
     "cell_type": "code",
     "collapsed": false,
     "input": [
      "from sklearn import linear_model\n",
      "regr = linear_model.LinearRegression()\n",
      "regr.fit(diabetes_X_train, diabetes_y_train)\n",
      "print(regr.coef_)\n",
      "# The mean square error\n",
      "np.mean((regr.predict(diabetes_X_test)-diabetes_y_test)**2)\n",
      "# Explained variance score: 1 is perfect prediction\n",
      "# and 0 means that there is no linear relationship\n",
      "# between X and Y.\n",
      "regr.score(diabetes_X_test, diabetes_y_test) "
     ],
     "language": "python",
     "metadata": {
      "internals": {
       "frag_helper": "fragment_end",
       "frag_number": 42,
       "slide_helper": "subslide_end",
       "slide_type": "subslide"
      },
      "slide_helper": "subslide_end",
      "slideshow": {
       "slide_type": "subslide"
      }
     },
     "outputs": [
      {
       "output_type": "stream",
       "stream": "stdout",
       "text": [
        "[  3.03499549e-01  -2.37639315e+02   5.10530605e+02   3.27736980e+02\n",
        "  -8.14131709e+02   4.92814588e+02   1.02848452e+02   1.84606489e+02\n",
        "   7.43519617e+02   7.60951722e+01]\n"
       ]
      },
      {
       "metadata": {},
       "output_type": "pyout",
       "prompt_number": 57,
       "text": [
        "0.58507530226905724"
       ]
      }
     ],
     "prompt_number": 57
    },
    {
     "cell_type": "heading",
     "level": 3,
     "metadata": {
      "heading_collapsed": false,
      "internals": {
       "frag_helper": "fragment_end",
       "frag_number": 42,
       "slide_type": "subslide"
      },
      "slideshow": {
       "slide_type": "subslide"
      }
     },
     "source": [
      "Shrinkage"
     ]
    },
    {
     "cell_type": "markdown",
     "metadata": {
      "internals": {
       "frag_helper": "fragment_end",
       "frag_number": 45
      },
      "slideshow": {
       "slide_type": "fragment"
      }
     },
     "source": [
      "In the case when we have more attributes than examples, small noise in the example can yield completely different solutions. "
     ]
    },
    {
     "cell_type": "code",
     "collapsed": false,
     "input": [
      "X = np.c_[ .5, 1].T\n",
      "y = [.5, 1]\n",
      "test = np.c_[ 0, 2].T\n",
      "regr = linear_model.LinearRegression()\n",
      "import pylab as pl \n",
      "pl.figure() \n",
      "np.random.seed(0)\n",
      "for _ in range(6): \n",
      "    this_X = .1*np.random.normal(size=(2, 1)) + X\n",
      "    regr.fit(this_X, y)\n",
      "    pl.plot(test, regr.predict(test)) \n",
      "    pl.scatter(this_X, y, s=3)"
     ],
     "language": "python",
     "metadata": {
      "internals": {
       "frag_helper": "fragment_end",
       "frag_number": 46,
       "slide_helper": "subslide_end"
      },
      "slide_helper": "subslide_end",
      "slideshow": {
       "slide_type": "fragment"
      }
     },
     "outputs": [
      {
       "metadata": {},
       "output_type": "display_data",
       "png": "[encoded data removed]",
       "text": [
        "<matplotlib.figure.Figure at 0x1ab44ba8>"
       ]
      }
     ],
     "prompt_number": 58
    },
    {
     "cell_type": "heading",
     "level": 4,
     "metadata": {
      "heading_collapsed": false,
      "internals": {
       "frag_helper": "fragment_end",
       "frag_number": 46,
       "slide_type": "subslide"
      },
      "slideshow": {
       "slide_type": "subslide"
      }
     },
     "source": [
      "Solution: Shrinking the coefficients"
     ]
    },
    {
     "cell_type": "markdown",
     "metadata": {
      "internals": {
       "frag_helper": "fragment_end",
       "frag_number": 46,
       "slide_helper": "subslide_end"
      },
      "slide_helper": "subslide_end",
      "slideshow": {
       "slide_type": "-"
      }
     },
     "source": [
      "In high-dimensional statistical learning, we try to shrink the coefficients so that they become minimal. This is called ridge regression. In a sense we add a-priori knowledge and restrict the number of possible regression solutions to those with very small weights.\n",
      "\n",
      "By introducing this constraint, we avoid that our model overfits on noisy data. This form of a-priori knowledge, the bias of the model towards a particular solution, is called a regularization."
     ]
    },
    {
     "cell_type": "code",
     "collapsed": false,
     "input": [
      "regr = linear_model.Ridge(alpha=.1)\n",
      "\n",
      "pl.figure() \n",
      "\n",
      "np.random.seed(0)\n",
      "for _ in range(6): \n",
      "     this_X = .1*np.random.normal(size=(2, 1)) + X\n",
      "     regr.fit(this_X, y)\n",
      "     pl.plot(test, regr.predict(test)) \n",
      "     pl.scatter(this_X, y, s=3) "
     ],
     "language": "python",
     "metadata": {
      "internals": {
       "frag_helper": "fragment_end",
       "frag_number": 46,
       "slide_helper": "subslide_end",
       "slide_type": "subslide"
      },
      "slide_helper": "subslide_end",
      "slideshow": {
       "slide_type": "subslide"
      }
     },
     "outputs": [
      {
       "metadata": {},
       "output_type": "display_data",
       "png": "[encoded data removed]",
       "text": [
        "<matplotlib.figure.Figure at 0x253d7160>"
       ]
      }
     ],
     "prompt_number": 59
    },
    {
     "cell_type": "heading",
     "level": 2,
     "metadata": {
      "heading_collapsed": false,
      "internals": {
       "frag_helper": "fragment_end",
       "frag_number": 46,
       "slide_type": "subslide"
      },
      "slideshow": {
       "slide_type": "subslide"
      }
     },
     "source": [
      "Logistic Regression"
     ]
    },
    {
     "cell_type": "markdown",
     "metadata": {
      "internals": {
       "frag_helper": "fragment_end",
       "frag_number": 51
      },
      "slideshow": {
       "slide_type": "fragment"
      }
     },
     "source": [
      "Logistic Regressions applies a non-linear transformation to the linear regression output in order to bring the output in the range $[0:1]$. "
     ]
    },
    {
     "cell_type": "code",
     "collapsed": false,
     "input": [
      "import numpy as np\n",
      "\n",
      "def sigmoid(x,beta,offset = 0.0):\n",
      "    return 1/(1+np.exp(-beta*x + offset))\n",
      "\n",
      "x = np.arange(-10, 10,0.1)\n",
      "for beta in np.arange(0.1,3.0,0.4):\n",
      "    pl.plot(x, sigmoid (x, beta))"
     ],
     "language": "python",
     "metadata": {
      "internals": {
       "frag_helper": "fragment_end",
       "frag_number": 52,
       "slide_helper": "subslide_end"
      },
      "slide_helper": "subslide_end",
      "slideshow": {
       "slide_type": "fragment"
      }
     },
     "outputs": [
      {
       "metadata": {},
       "output_type": "display_data",
       "png": "[encoded data removed]",
       "text": [
        "<matplotlib.figure.Figure at 0x1aeb9160>"
       ]
      }
     ],
     "prompt_number": 60
    },
    {
     "cell_type": "heading",
     "level": 4,
     "metadata": {
      "heading_collapsed": false,
      "internals": {
       "frag_helper": "fragment_end",
       "frag_number": 52,
       "slide_type": "subslide"
      },
      "slideshow": {
       "slide_type": "subslide"
      }
     },
     "source": [
      "Logistic Regression for Classification"
     ]
    },
    {
     "cell_type": "markdown",
     "metadata": {
      "internals": {
       "frag_helper": "fragment_end",
       "frag_number": 54
      },
      "slideshow": {
       "slide_type": "fragment"
      }
     },
     "source": [
      "Since logistic regression prodcues outputs close to 0 and +1 it can be used to train a classification problem, like the IRIS data set, with labels 0 and +1 (or -1 and +1 by using a `tanh` function)"
     ]
    },
    {
     "cell_type": "code",
     "collapsed": false,
     "input": [
      "logistic = linear_model.LogisticRegression(C=1e5)\n",
      "logistic.fit(iris_X_train, iris_y_train)"
     ],
     "language": "python",
     "metadata": {
      "internals": {
       "frag_helper": "fragment_end",
       "frag_number": 55
      },
      "slideshow": {
       "slide_type": "fragment"
      }
     },
     "outputs": [
      {
       "metadata": {},
       "output_type": "pyout",
       "prompt_number": 61,
       "text": [
        "LogisticRegression(C=100000.0, class_weight=None, dual=False,\n",
        "          fit_intercept=True, intercept_scaling=1, penalty='l2',\n",
        "          random_state=None, tol=0.0001)"
       ]
      }
     ],
     "prompt_number": 61
    },
    {
     "cell_type": "code",
     "collapsed": false,
     "input": [
      "print \"Predicted flower classes:\\t\", logistic.predict(iris_X_test)\n",
      "print \"True flower classes     :\\t\", iris_y_test\n",
      "print \"correct classifciation? :\\t\", logistic.predict(iris_X_test) \\\n",
      "                                     == iris_y_test\n",
      "print \"classifc. error (in %)  :\\t\", \\\n",
      "      np.sum(logistic.predict(iris_X_test) == iris_y_test)*100.0\\\n",
      "      /len(iris_y_test)"
     ],
     "language": "python",
     "metadata": {
      "internals": {
       "frag_helper": "fragment_end",
       "frag_number": 56,
       "slide_helper": "subslide_end"
      },
      "slide_helper": "subslide_end",
      "slideshow": {
       "slide_type": "fragment"
      }
     },
     "outputs": [
      {
       "output_type": "stream",
       "stream": "stdout",
       "text": [
        "Predicted flower classes:\t[1 2 1 0 0 0 2 1 2 0]\n",
        "True flower classes     :\t[1 1 1 0 0 0 2 1 2 0]\n",
        "correct classifciation? :\t[ True False  True  True  True  True  True  True  True  True]\n",
        "classifc. error (in %)  :\t90.0\n"
       ]
      }
     ],
     "prompt_number": 62
    },
    {
     "cell_type": "heading",
     "level": 2,
     "metadata": {
      "heading_collapsed": false,
      "internals": {
       "frag_helper": "fragment_end",
       "frag_number": 56,
       "slide_type": "subslide"
      },
      "slideshow": {
       "slide_type": "subslide"
      }
     },
     "source": [
      "Multiclass, Multilabel Classification"
     ]
    },
    {
     "cell_type": "markdown",
     "metadata": {
      "internals": {
       "frag_helper": "fragment_end",
       "frag_number": 58,
       "slide_helper": "subslide_end"
      },
      "slide_helper": "subslide_end",
      "slideshow": {
       "slide_type": "fragment"
      }
     },
     "source": [
      "\n",
      "- **Multiclass-Classifier:** A classifier is capable to select from more than one class, i.e. a flower can be assigned to seritosa, vertigo and virsicolor\n",
      "- **Multilabel-Classifier:** An example is assigned to one or more classes\n",
      "\n",
      "Our original regression problem only predicted one variable ($y$), which translates into a binary classification model, i.e. an example is assigned to a class or not.\n",
      "\n",
      "If possible, Scikit learn automatically extends the estimators to multiclass-labels, according to the following strategies. \n",
      "\n",
      "Multiclass problems can be decomposed into binary classification problems:\n",
      "\n",
      "- \"One vs. All\" approach: One classifier per class trained against all other classes\n",
      "- \"One vs. One\" approach: There are $k$ classifiers for a class (assuming we have $k$ classes). An example is assigned to the class that has won most often. \n",
      "\n",
      "See the [sklearn documentation](http://scikit-learn.org/stable/modules/multiclass.html) for details."
     ]
    },
    {
     "cell_type": "heading",
     "level": 4,
     "metadata": {
      "heading_collapsed": false,
      "internals": {
       "frag_helper": "fragment_end",
       "frag_number": 58,
       "slide_type": "subslide"
      },
      "slideshow": {
       "slide_type": "subslide"
      }
     },
     "source": [
      "One vs. All Decision Surfaces for the Logistic Regression on the IRIS Data"
     ]
    },
    {
     "cell_type": "code",
     "collapsed": false,
     "input": [
      "%run modules/plot_iris_logistic.py"
     ],
     "language": "python",
     "metadata": {
      "internals": {
       "frag_helper": "fragment_end",
       "frag_number": 60,
       "slide_helper": "subslide_end"
      },
      "slide_helper": "subslide_end",
      "slideshow": {
       "slide_type": "fragment"
      }
     },
     "outputs": [
      {
       "output_type": "stream",
       "stream": "stdout",
       "text": [
        "Module created for script run in IPython\n"
       ]
      },
      {
       "metadata": {},
       "output_type": "display_data",
       "png": "[encoded data removed]",
       "text": [
        "<matplotlib.figure.Figure at 0x1ab42eb8>"
       ]
      }
     ],
     "prompt_number": 63
    },
    {
     "cell_type": "heading",
     "level": 2,
     "metadata": {
      "heading_collapsed": false,
      "internals": {
       "frag_helper": "fragment_end",
       "frag_number": 60,
       "slide_type": "subslide"
      },
      "slideshow": {
       "slide_type": "subslide"
      }
     },
     "source": [
      "Support Vector Machines"
     ]
    },
    {
     "cell_type": "markdown",
     "metadata": {
      "internals": {
       "frag_helper": "fragment_end",
       "frag_number": 62,
       "slide_helper": "subslide_end"
      },
      "slide_helper": "subslide_end",
      "slideshow": {
       "slide_type": "fragment"
      }
     },
     "source": [
      "Support Vector Machines are linear classifiers that find very robust classifiers. In particular, they maximize the margin between the decision boundary and the positive/negative examples.\n",
      "\n",
      "This decision boundary is described by a weighted combination of a set of border examples, the so called Support Vectors.\n",
      "\n",
      "SVMs can be extended to non-linear classifiers using so called Kernel Methods (out of scope here)\n",
      "\n",
      "<p>\n",
      "\n",
      "<div class=\"alert alert-info\">\n",
      "Support Vector Machines are usually a very good choice for classification tasks due to their robustnes against irrelevant features and noisy examples, especially in high-dimensional input spaces.\n",
      "</div>"
     ]
    },
    {
     "cell_type": "code",
     "collapsed": false,
     "input": [
      "%run modules/plot_svm_margin.py "
     ],
     "language": "python",
     "metadata": {
      "internals": {
       "frag_helper": "fragment_end",
       "frag_number": 62,
       "slide_helper": "subslide_end",
       "slide_type": "subslide"
      },
      "slide_helper": "subslide_end",
      "slideshow": {
       "slide_type": "subslide"
      }
     },
     "outputs": [
      {
       "output_type": "stream",
       "stream": "stdout",
       "text": [
        "Module created for script run in IPython\n"
       ]
      },
      {
       "metadata": {},
       "output_type": "display_data",
       "png": "[encoded data removed]",
       "text": [
        "<matplotlib.figure.Figure at 0x1b39cf28>"
       ]
      },
      {
       "metadata": {},
       "output_type": "display_data",
       "png": "[encoded data removed]",
       "text": [
        "<matplotlib.figure.Figure at 0x1b39ce10>"
       ]
      }
     ],
     "prompt_number": 64
    },
    {
     "cell_type": "code",
     "collapsed": false,
     "input": [
      "from sklearn import svm\n",
      "svc = svm.SVC(kernel='linear')\n",
      "svc.fit(iris_X_train, iris_y_train)  "
     ],
     "language": "python",
     "metadata": {
      "internals": {
       "frag_helper": "fragment_end",
       "frag_number": 62,
       "slide_type": "subslide"
      },
      "slideshow": {
       "slide_type": "subslide"
      }
     },
     "outputs": [
      {
       "metadata": {},
       "output_type": "pyout",
       "prompt_number": 65,
       "text": [
        "SVC(C=1.0, cache_size=200, class_weight=None, coef0=0.0, degree=3, gamma=0.0,\n",
        "  kernel='linear', max_iter=-1, probability=False, random_state=None,\n",
        "  shrinking=True, tol=0.001, verbose=False)"
       ]
      }
     ],
     "prompt_number": 65
    },
    {
     "cell_type": "code",
     "collapsed": false,
     "input": [
      "print \"Predicted flower classes:\\t\", svc.predict(iris_X_test)\n",
      "print \"True flower classes     :\\t\", iris_y_test\n",
      "print \"correct classifciation? :\\t\", \\\n",
      "      svc.predict(iris_X_test) == iris_y_test\n",
      "print \"classifc. error (in %)  :\\t\", \\\n",
      "      np.sum(svc.predict(iris_X_test) == iris_y_test)*100.0\\\n",
      "      /len(iris_y_test)"
     ],
     "language": "python",
     "metadata": {
      "internals": {
       "frag_helper": "fragment_end",
       "frag_number": 65,
       "slide_helper": "subslide_end"
      },
      "slide_helper": "slide_end",
      "slideshow": {
       "slide_type": "fragment"
      }
     },
     "outputs": [
      {
       "output_type": "stream",
       "stream": "stdout",
       "text": [
        "Predicted flower classes:\t[1 2 1 0 0 0 2 1 2 0]\n",
        "True flower classes     :\t[1 1 1 0 0 0 2 1 2 0]\n",
        "correct classifciation? :\t[ True False  True  True  True  True  True  True  True  True]\n",
        "classifc. error (in %)  :\t90.0\n"
       ]
      }
     ],
     "prompt_number": 85
    },
    {
     "cell_type": "heading",
     "level": 1,
     "metadata": {
      "heading_collapsed": false,
      "internals": {
       "frag_helper": "fragment_end",
       "frag_number": 65,
       "slide_type": "subslide"
      },
      "slideshow": {
       "slide_type": "slide"
      }
     },
     "source": [
      " Model Selection and Performance Evaluation"
     ]
    },
    {
     "cell_type": "markdown",
     "metadata": {
      "internals": {
       "frag_helper": "fragment_end",
       "frag_number": 65
      },
      "slideshow": {
       "slide_type": "-"
      }
     },
     "source": [
      "**What is a good estimator?** "
     ]
    },
    {
     "cell_type": "markdown",
     "metadata": {
      "internals": {
       "frag_helper": "fragment_end",
       "frag_number": 65,
       "slide_helper": "subslide_end"
      },
      "slide_helper": "subslide_end",
      "slideshow": {
       "slide_type": "-"
      }
     },
     "source": [
      "<div class= \"alert alert-warning\">\n",
      "Model Selection refers to the process of tuning parameters and hyper-parameters in order to find a good machine learning estimator. \n",
      "</div>\n",
      "\n",
      "It requires the \n",
      "\n",
      "- Selection of an error measure\n",
      "- Definition of a test procedure that measures the generalisation performance over unseen examples"
     ]
    },
    {
     "cell_type": "heading",
     "level": 2,
     "metadata": {
      "heading_collapsed": false,
      "internals": {
       "frag_helper": "fragment_end",
       "frag_number": 65,
       "slide_type": "subslide"
      },
      "slideshow": {
       "slide_type": "subslide"
      }
     },
     "source": [
      "Error Measures\n"
     ]
    },
    {
     "cell_type": "heading",
     "level": 3,
     "metadata": {
      "heading_collapsed": false,
      "internals": {
       "frag_helper": "fragment_end",
       "frag_number": 70
      },
      "slideshow": {
       "slide_type": "fragment"
      }
     },
     "source": [
      "Accuracy"
     ]
    },
    {
     "cell_type": "markdown",
     "metadata": {
      "internals": {
       "frag_helper": "fragment_end",
       "frag_number": 71
      },
      "slideshow": {
       "slide_type": "fragment"
      }
     },
     "source": [
      "The most basic measure for a binary classification task is the accuracy, i.e.\n",
      "\n",
      "$$\n",
      " accuracy =\\frac{\\sum_{x_i}y_i == h(x_i)}{|X|}\n",
      "$$\n",
      "\n",
      "where $h(x_i)$ is the estimator for example $x_i$ and $y_i$ is the true label of $x_i$"
     ]
    },
    {
     "cell_type": "markdown",
     "metadata": {
      "internals": {
       "frag_helper": "fragment_end",
       "frag_number": 72
      },
      "slideshow": {
       "slide_type": "fragment"
      }
     },
     "source": [
      "`sklearn` provides a `score` method that calculates this error measure"
     ]
    },
    {
     "cell_type": "code",
     "collapsed": false,
     "input": [
      "svc.score(iris_X_test,iris_y_test)"
     ],
     "language": "python",
     "metadata": {
      "internals": {
       "frag_helper": "fragment_end",
       "frag_number": 73,
       "slide_helper": "subslide_end"
      },
      "slide_helper": "subslide_end",
      "slideshow": {
       "slide_type": "fragment"
      }
     },
     "outputs": [
      {
       "metadata": {},
       "output_type": "pyout",
       "prompt_number": 67,
       "text": [
        "0.90000000000000002"
       ]
      }
     ],
     "prompt_number": 67
    },
    {
     "cell_type": "markdown",
     "metadata": {
      "internals": {
       "frag_helper": "fragment_end",
       "frag_number": 73,
       "slide_helper": "subslide_end",
       "slide_type": "subslide"
      },
      "slide_helper": "subslide_end",
      "slideshow": {
       "slide_type": "subslide"
      }
     },
     "source": [
      "The accuracy is often not an ideal measure, due to several reasons\n",
      "\n",
      "- For unbalanced data sets, i.e. more negative (positive) examples than positive (negative) examples, it does not represent the real performance of an estimator.\n",
      "- For multilabel data, it is unclear how to evaluate the equality of the estimator and the true label\n",
      "- It does not provide any insights on whether the estimator makes errors du to accepting too many examples to a concept, or rejecting too many of them."
     ]
    },
    {
     "cell_type": "heading",
     "level": 3,
     "metadata": {
      "heading_collapsed": false,
      "internals": {
       "frag_helper": "fragment_end",
       "frag_number": 73,
       "slide_type": "subslide"
      },
      "slideshow": {
       "slide_type": "subslide"
      }
     },
     "source": [
      "Precision and Recall"
     ]
    },
    {
     "cell_type": "markdown",
     "metadata": {
      "internals": {
       "frag_helper": "fragment_end",
       "frag_number": 76,
       "slide_helper": "subslide_end"
      },
      "slide_helper": "subslide_end",
      "slideshow": {
       "slide_type": "fragment"
      }
     },
     "source": [
      "Precision and Recall are two measures coming from Information Retrieval, which give insights on the quality of error. They are build on the concept of a contingence table. \n",
      "\n",
      "**Precision** defines the **accuracy** of an estimator **wrt. a certain classification decision**\n",
      "\n",
      "**Recall** defines the **completeness** of an estimator **wrt. a certain classification decision**\n",
      "\n",
      "To illustrate that we introduce the concept of a contingence table. "
     ]
    },
    {
     "cell_type": "heading",
     "level": 3,
     "metadata": {
      "heading_collapsed": false,
      "internals": {
       "frag_helper": "fragment_end",
       "frag_number": 76,
       "slide_type": "subslide"
      },
      "slideshow": {
       "slide_type": "subslide"
      }
     },
     "source": [
      "Contingence Table"
     ]
    },
    {
     "cell_type": "markdown",
     "metadata": {
      "internals": {
       "frag_helper": "fragment_end",
       "frag_number": 76,
       "slide_helper": "subslide_end"
      },
      "slide_helper": "subslide_end",
      "slideshow": {
       "slide_type": "-"
      }
     },
     "source": [
      "**Formal definitions**\n",
      "\n",
      "- estimator $h(x)$\n",
      "- examples $X={<x_1,Y_1>,\\ldots,<x_n,Y_n>}$, with $Y_n \\subset Y$ and $Y$ being the **set of possible classes** an example \n",
      "\n",
      "For every class $a\\in Y$ we define the contingency table as:\n",
      "\n",
      "|Contintency Table for Class $a$| $y_i == a$ | $y_i \\neq a$|\n",
      "|---|---|---|\n",
      "|$h(x_i)==a$|True Positive (TP)|False Positive (FP)|\n",
      "|$h(x_i)\\neq a$|False Negative (FN)|True Negative (TN)|\n",
      "\n",
      "- `{False|True}` reflects whether the outcome was correct or not\n",
      "- `{Positive|Negative}` reflects whether the decision was to assign it to $a$ (positive) or not (negative)\n"
     ]
    },
    {
     "cell_type": "markdown",
     "metadata": {
      "internals": {
       "frag_helper": "fragment_end",
       "frag_number": 76,
       "slide_helper": "subslide_end",
       "slide_type": "subslide"
      },
      "slide_helper": "subslide_end",
      "slideshow": {
       "slide_type": "subslide"
      }
     },
     "source": [
      "\n",
      "**Precision** now estimates the probability that an assignment made by $h$ is correct:\n",
      "\n",
      "$$\n",
      "Precision_a = \\frac{TP_a}{TP_a+FP_a}\n",
      "$$\n",
      "\n",
      "**Recall** now estimates the probability that $h$ has found all correct assignments\n",
      "\n",
      "$$\n",
      "Recall_a = \\frac{TP_a}{TP_a+FN_a}\n",
      "$$\n",
      "\n",
      "**F1** defines a combined measure, which is the harmonic mean between Precision and Recall:\n",
      "\n",
      "$$\n",
      "F1_a = \\frac{2*Precision_a*Recall_a}{Precision_a + Recall_a}\n",
      "$$"
     ]
    },
    {
     "cell_type": "markdown",
     "metadata": {
      "internals": {
       "frag_helper": "fragment_end",
       "frag_number": 76,
       "slide_helper": "subslide_end",
       "slide_type": "subslide"
      },
      "slide_helper": "subslide_end",
      "slideshow": {
       "slide_type": "subslide"
      }
     },
     "source": [
      "#### Microaveraging vs. Macroaveraging\n",
      "\n",
      "Precision and Recall define the quality estimators with respect to a specific class $a$.\n",
      "\n",
      "Given multiple classes $a\\in Y$, there are two ways for generating a single estimator:\n",
      "\n",
      "- **Microaveraging** sums over all single decisions, i.e. \n",
      "$$\n",
      "Precision^\\mu = \\frac{\\sum_{a\\in Y}TP_a}{\\sum_{a\\in Y}TP_a+\\sum_{a\\in Y}FP_a}\n",
      "$$\n",
      "- **Macroaveraging** sums over all class estimators, i.e.\n",
      "\n",
      "$$\n",
      "Precision^\\nu = \\frac{1}{|Y|}\\sum_{a\\in Y}Precision_a\n",
      "$$\n",
      "\n",
      "\n",
      "<div class=\"alert alert-info\">\n",
      "Note that in the case of microaveraging in a single label classification:\n",
      "$Precision^\\mu==Recall^\\mu== Accuracy$.\n",
      "\n",
      "The reason is, that every FN becomes a FP in another class and hence the sum of FN and FP is the same.\n",
      "</div>"
     ]
    },
    {
     "cell_type": "markdown",
     "metadata": {
      "internals": {
       "frag_helper": "fragment_end",
       "frag_number": 76,
       "slide_helper": "subslide_end",
       "slide_type": "subslide"
      },
      "slide_helper": "slide_end",
      "slideshow": {
       "slide_type": "subslide"
      }
     },
     "source": [
      "Further details can be found under [1] and [2]\n",
      "\n",
      "[1] http://scikit-learn.org/stable/tutorial/statistical_inference/model_selection.html\n",
      "\n",
      "[2] http://scikit-learn.org/stable/auto_examples/plot_precision_recall.html"
     ]
    },
    {
     "cell_type": "heading",
     "level": 2,
     "metadata": {
      "heading_collapsed": false,
      "internals": {
       "frag_helper": "fragment_end",
       "frag_number": 76,
       "slide_type": "subslide"
      },
      "slideshow": {
       "slide_type": "slide"
      }
     },
     "source": [
      "Test Procedure"
     ]
    },
    {
     "cell_type": "markdown",
     "metadata": {
      "internals": {
       "frag_helper": "fragment_end",
       "frag_number": 83
      },
      "slideshow": {
       "slide_type": "fragment"
      }
     },
     "source": [
      "In the examples above we have always used a fraction of the example for the training and the remaining examples for testing.\n",
      "\n",
      "- Why?\n",
      "- What is the impact of a random split?\n",
      "- Can we do better?"
     ]
    },
    {
     "cell_type": "markdown",
     "metadata": {
      "internals": {
       "frag_helper": "fragment_end",
       "frag_number": 83,
       "slide_helper": "subslide_end"
      },
      "slide_helper": "subslide_end",
      "slideshow": {
       "slide_type": "-"
      }
     },
     "source": [
      "Note that we want to generalize over our given data. So we need to split the data into a training and a test set to get an unbiased estimator of the model quality on **unseen examples**. \n",
      "\n",
      "A **random split** can be very bad or very good. So we would need more random splits to avoid such a bias.\n",
      "\n",
      "A better, more efficient method is called **cross-validation**.\n"
     ]
    },
    {
     "cell_type": "heading",
     "level": 3,
     "metadata": {
      "heading_collapsed": false,
      "internals": {
       "frag_helper": "fragment_end",
       "frag_number": 83,
       "slide_type": "subslide"
      },
      "slideshow": {
       "slide_type": "subslide"
      }
     },
     "source": [
      "k-folded Cross Validation"
     ]
    },
    {
     "cell_type": "markdown",
     "metadata": {
      "internals": {
       "frag_helper": "fragment_end",
       "frag_number": 86,
       "slide_helper": "subslide_end"
      },
      "slide_helper": "subslide_end",
      "slideshow": {
       "slide_type": "fragment"
      }
     },
     "source": [
      "Given our examples $X$, we split them into $k-folds$ of approximate equal size. \n",
      "\n",
      "1. for every fold $i$ in $k we\n",
      "\n",
      "    1. Fit our model on all but the examples in the $k^{th}$ fold\n",
      "    2. Estimate the quality of our model on the examples from the  $k^{th}$ fold\n",
      "    \n",
      "2. Average the obtained quality indicators (e.g. precision/recall) over al the $k-folds$\n",
      "\n",
      "\n",
      "<p>\n",
      "\n",
      "\n",
      "<div class=\"alert alert-info\">\n",
      "When averaging over quality indicators like accuracy, always investigate the standard deviation in addition to the average value. The standard deviation tells you how robust your estimated quality indicator is wrt. different runs.\n",
      "</div>\n",
      "\n"
     ]
    },
    {
     "cell_type": "code",
     "collapsed": false,
     "input": [
      "#sklearn provides cv functionality as generator function\n",
      "from sklearn import cross_validation\n",
      "k_fold = cross_validation.KFold(n=6, n_folds=3)\n",
      "for train_indices, test_indices in k_fold:\n",
      "     print('Train: %s | test: %s' % (train_indices, test_indices))"
     ],
     "language": "python",
     "metadata": {
      "internals": {
       "frag_helper": "fragment_end",
       "frag_number": 86,
       "slide_helper": "subslide_end",
       "slide_type": "subslide"
      },
      "slide_helper": "subslide_end",
      "slideshow": {
       "slide_type": "subslide"
      }
     },
     "outputs": [
      {
       "output_type": "stream",
       "stream": "stdout",
       "text": [
        "Train: [2 3 4 5] | test: [0 1]\n",
        "Train: [0 1 4 5] | test: [2 3]\n",
        "Train: [0 1 2 3] | test: [4 5]\n"
       ]
      }
     ],
     "prompt_number": 68
    },
    {
     "cell_type": "heading",
     "level": 4,
     "metadata": {
      "heading_collapsed": false,
      "internals": {
       "frag_helper": "fragment_end",
       "frag_number": 86,
       "slide_type": "subslide"
      },
      "slideshow": {
       "slide_type": "subslide"
      }
     },
     "source": [
      "Cross-Validation on the iris data set"
     ]
    },
    {
     "cell_type": "code",
     "collapsed": false,
     "input": [
      "k_fold = cross_validation.KFold(n=iris.data.shape[0], n_folds=8)\n",
      "\n",
      "scores = []\n",
      "for train_indices, test_indices in k_fold:\n",
      "     logistic = linear_model.LogisticRegression(C=1e5)\n",
      "     logistic.fit(iris.data[train_indices], iris.target[train_indices])  \n",
      "     scores.append(\n",
      "                  logistic.score(iris.data[test_indices], \n",
      "                                 iris.target[test_indices])\n",
      "                  )\n",
      "     print 'Score: %f' % (scores[-1])\n",
      "\n",
      "print \"Average model accuracy %f +/- %f\" % (np.mean(scores),np.std(scores))"
     ],
     "language": "python",
     "metadata": {
      "internals": {
       "frag_helper": "fragment_end",
       "frag_number": 89,
       "slide_helper": "subslide_end"
      },
      "slide_helper": "subslide_end",
      "slideshow": {
       "slide_type": "fragment"
      }
     },
     "outputs": [
      {
       "output_type": "stream",
       "stream": "stdout",
       "text": [
        "Score: 1.000000\n",
        "Score: 1.000000\n",
        "Score: 1.000000\n",
        "Score: 0.947368\n",
        "Score: 0.947368\n",
        "Score: 0.947368\n",
        "Score: 0.944444\n",
        "Score: 0.888889\n",
        "Average model accuracy 0.959430 +/- 0.036357\n"
       ]
      }
     ],
     "prompt_number": 69
    },
    {
     "cell_type": "markdown",
     "metadata": {
      "internals": {
       "frag_helper": "fragment_end",
       "frag_number": 89,
       "slide_helper": "subslide_end",
       "slide_type": "subslide"
      },
      "slide_helper": "slide_end",
      "slideshow": {
       "slide_type": "subslide"
      }
     },
     "source": [
      "**Some Questions**\n",
      "\n",
      "- Run the above code with $n=3$. What is wrong and why?\n",
      "- Research the concept of stratified cross validation\n",
      "- What is the highest possible $k$?\n",
      "- Research the concepts of leave-one-out testing and leave-one-label-out testing\n",
      "\n",
      "Try to answer them when working on the next exercise."
     ]
    },
    {
     "cell_type": "heading",
     "level": 1,
     "metadata": {
      "internals": {
       "frag_helper": "fragment_end",
       "frag_number": 89,
       "slide_type": "subslide"
      },
      "slideshow": {
       "slide_type": "slide"
      }
     },
     "source": [
      "Parameter Estimation"
     ]
    },
    {
     "cell_type": "markdown",
     "metadata": {
      "internals": {
       "frag_helper": "fragment_end",
       "frag_number": 89
      },
      "slideshow": {
       "slide_type": "-"
      }
     },
     "source": [
      "**How to find good parameters?**"
     ]
    },
    {
     "cell_type": "markdown",
     "metadata": {
      "internals": {
       "frag_helper": "fragment_end",
       "frag_number": 89,
       "slide_helper": "subslide_end"
      },
      "slide_helper": "subslide_end",
      "slideshow": {
       "slide_type": "-"
      }
     },
     "source": [
      "Evaluating different parameter choices against the test split is problematic, because you basically fit the parameters to the test set. Therefore, split the data into three fractions:\n",
      "- **Training** - the fraction used to **train your estimator**\n",
      "- **Validation** - the fraction used to **evaluate your parameter choice**\n",
      "- **Test** - the fraction used to **evaluate your estimator**  \n",
      "\n",
      "This way you are guaranteed to evaluate your estimator on previously unseen examples.\n",
      "\n",
      "\n",
      "<div class=\"alert alert-info\">\n",
      "A common approach is to use a portion of 60% for training, 20% for validation and 20% for testing. Note that you can still perform cross-validation, by e.g. permutating the validation set.\n",
      "</div>"
     ]
    },
    {
     "cell_type": "markdown",
     "metadata": {
      "internals": {
       "frag_helper": "fragment_end",
       "frag_number": 89,
       "slide_type": "subslide"
      },
      "slideshow": {
       "slide_type": "subslide"
      }
     },
     "source": [
      "**Logistic Regression revisited**"
     ]
    },
    {
     "cell_type": "code",
     "collapsed": false,
     "input": [
      "# logistic regression with default parameters\n",
      "logistic = linear_model.LogisticRegression()\n",
      "# use only the first two attributes\n",
      "logistic.fit(iris_X_train[:,:2], iris_y_train)\n",
      "print np.mean(logistic.predict(iris_X_test[:,:2]) == iris_y_test)"
     ],
     "language": "python",
     "metadata": {
      "internals": {
       "frag_helper": "fragment_end",
       "frag_number": 89
      },
      "slideshow": {
       "slide_type": "-"
      }
     },
     "outputs": [
      {
       "output_type": "stream",
       "stream": "stdout",
       "text": [
        "0.7\n"
       ]
      }
     ],
     "prompt_number": 86
    },
    {
     "cell_type": "code",
     "collapsed": false,
     "input": [
      "# Search for good parameters\n",
      "from sklearn.grid_search import GridSearchCV\n",
      "parameters = {'C':[0.1,0.5,1,10,1e2,1e3,1e4]}\n",
      "# GridSearchCV cross-validates on a 3-fold per default\n",
      "gs_logistic = GridSearchCV(logistic, parameters)\n",
      "gs_logistic.fit(iris_X_train[:,:2], iris_y_train)\n",
      "print np.mean(gs_logistic.predict(iris_X_test[:,:2]) == iris_y_test)\n",
      "gs_logistic.grid_scores_"
     ],
     "language": "python",
     "metadata": {
      "internals": {
       "frag_helper": "fragment_end",
       "frag_number": 96,
       "slide_helper": "subslide_end"
      },
      "slide_helper": "slide_end",
      "slideshow": {
       "slide_type": "fragment"
      }
     },
     "outputs": [
      {
       "output_type": "stream",
       "stream": "stdout",
       "text": [
        "0.9\n"
       ]
      },
      {
       "metadata": {},
       "output_type": "pyout",
       "prompt_number": 88,
       "text": [
        "[mean: 0.66429, std: 0.00904, params: {'C': 0.1},\n",
        " mean: 0.66429, std: 0.00904, params: {'C': 0.5},\n",
        " mean: 0.72143, std: 0.04536, params: {'C': 1},\n",
        " mean: 0.76429, std: 0.04111, params: {'C': 10},\n",
        " mean: 0.78571, std: 0.02869, params: {'C': 100.0},\n",
        " mean: 0.78571, std: 0.03576, params: {'C': 1000.0},\n",
        " mean: 0.78571, std: 0.03576, params: {'C': 10000.0}]"
       ]
      }
     ],
     "prompt_number": 88
    },
    {
     "cell_type": "heading",
     "level": 1,
     "metadata": {
      "heading_collapsed": false,
      "internals": {
       "frag_helper": "fragment_end",
       "frag_number": 96,
       "slide_type": "subslide"
      },
      "slideshow": {
       "slide_type": "slide"
      }
     },
     "source": [
      "Exercise Text Classification with scikit-learn"
     ]
    },
    {
     "cell_type": "markdown",
     "metadata": {
      "internals": {
       "frag_helper": "fragment_end",
       "frag_number": 98,
       "slide_helper": "subslide_end"
      },
      "slide_helper": "subslide_end",
      "slideshow": {
       "slide_type": "fragment"
      }
     },
     "source": [
      "Fetch the 20 Newsgroups data set and load it via the  `sklearn.datasets.fetch_20newsgroups` function. The data set contains 20 newsgroups with 1000 posts in each newsgroup. The data set comes with a test/training split. \n",
      "\n",
      "Conduct the following tasks:\n",
      "1. Preprocess the data set using scikit learn vectorizer\n",
      "2. Train the data set using two classifiers of your choice\n",
      "3. Tune the parameters of those classifiers to obtain the best results\n",
      "4. Evaluate the performance on the test set and compare both classifiers."
     ]
    },
    {
     "cell_type": "markdown",
     "metadata": {
      "internals": {
       "frag_helper": "fragment_end",
       "frag_number": 98,
       "slide_helper": "subslide_end",
       "slide_type": "subslide"
      },
      "slide_helper": "slide_end",
      "slideshow": {
       "slide_type": "subslide"
      }
     },
     "source": [
      "#### Solution\n",
      "\n",
      "The solution can be found at http://scikit-learn.org/stable/tutorial/text_analytics/working_with_text_data.html"
     ]
    },
    {
     "cell_type": "heading",
     "level": 1,
     "metadata": {
      "heading_collapsed": false,
      "internals": {
       "frag_helper": "fragment_end",
       "frag_number": 98,
       "slide_type": "subslide"
      },
      "slideshow": {
       "slide_type": "slide"
      }
     },
     "source": [
      "References and Further Reading"
     ]
    },
    {
     "cell_type": "markdown",
     "metadata": {
      "internals": {
       "frag_helper": "fragment_end",
       "frag_number": 101,
       "slide_helper": "subslide_end"
      },
      "slide_helper": "slide_end",
      "slideshow": {
       "slide_type": "fragment"
      }
     },
     "source": [
      "- Tom Mitchell, Machine Learning, McGraw-Hill 1997 [chapter slides](http://www.cs.cmu.edu/~tom/mlbook-chapter-slides.html)\n",
      "- [Scikit learn](http://scikit-learn.org/stable/)"
     ]
    },
    {
     "cell_type": "heading",
     "level": 1,
     "metadata": {
      "heading_collapsed": false,
      "internals": {
       "frag_helper": "fragment_end",
       "frag_number": 101,
       "slide_type": "subslide"
      },
      "slideshow": {
       "slide_type": "slide"
      }
     },
     "source": [
      "Appendix: A scikit-learn Example for Optical Character Recognition (OCR)\n"
     ]
    },
    {
     "cell_type": "code",
     "collapsed": false,
     "input": [
      "#load a data set\n",
      "from sklearn import datasets\n",
      "iris = datasets.load_iris()\n",
      "digits = datasets.load_digits()\n",
      "print digits"
     ],
     "language": "python",
     "metadata": {
      "internals": {
       "frag_helper": "fragment_end",
       "frag_number": 103
      },
      "slideshow": {
       "slide_type": "fragment"
      }
     },
     "outputs": [
      {
       "output_type": "stream",
       "stream": "stdout",
       "text": [
        "{'images': array([[[  0.,   0.,   5., ...,   1.,   0.,   0.],\n",
        "        [  0.,   0.,  13., ...,  15.,   5.,   0.],\n",
        "        [  0.,   3.,  15., ...,  11.,   8.,   0.],\n",
        "        ..., \n",
        "        [  0.,   4.,  11., ...,  12.,   7.,   0.],\n",
        "        [  0.,   2.,  14., ...,  12.,   0.,   0.],\n",
        "        [  0.,   0.,   6., ...,   0.,   0.,   0.]],\n",
        "\n",
        "       [[  0.,   0.,   0., ...,   5.,   0.,   0.],\n",
        "        [  0.,   0.,   0., ...,   9.,   0.,   0.],\n",
        "        [  0.,   0.,   3., ...,   6.,   0.,   0.],\n",
        "        ..., \n",
        "        [  0.,   0.,   1., ...,   6.,   0.,   0.],\n",
        "        [  0.,   0.,   1., ...,   6.,   0.,   0.],\n",
        "        [  0.,   0.,   0., ...,  10.,   0.,   0.]],\n",
        "\n",
        "       [[  0.,   0.,   0., ...,  12.,   0.,   0.],\n",
        "        [  0.,   0.,   3., ...,  14.,   0.,   0.],\n",
        "        [  0.,   0.,   8., ...,  16.,   0.,   0.],\n",
        "        ..., \n",
        "        [  0.,   9.,  16., ...,   0.,   0.,   0.],\n",
        "        [  0.,   3.,  13., ...,  11.,   5.,   0.],\n",
        "        [  0.,   0.,   0., ...,  16.,   9.,   0.]],\n",
        "\n",
        "       ..., \n",
        "       [[  0.,   0.,   1., ...,   1.,   0.,   0.],\n",
        "        [  0.,   0.,  13., ...,   2.,   1.,   0.],\n",
        "        [  0.,   0.,  16., ...,  16.,   5.,   0.],\n",
        "        ..., \n",
        "        [  0.,   0.,  16., ...,  15.,   0.,   0.],\n",
        "        [  0.,   0.,  15., ...,  16.,   0.,   0.],\n",
        "        [  0.,   0.,   2., ...,   6.,   0.,   0.]],\n",
        "\n",
        "       [[  0.,   0.,   2., ...,   0.,   0.,   0.],\n",
        "        [  0.,   0.,  14., ...,  15.,   1.,   0.],\n",
        "        [  0.,   4.,  16., ...,  16.,   7.,   0.],\n",
        "        ..., \n",
        "        [  0.,   0.,   0., ...,  16.,   2.,   0.],\n",
        "        [  0.,   0.,   4., ...,  16.,   2.,   0.],\n",
        "        [  0.,   0.,   5., ...,  12.,   0.,   0.]],\n",
        "\n",
        "       [[  0.,   0.,  10., ...,   1.,   0.,   0.],\n",
        "        [  0.,   2.,  16., ...,   1.,   0.,   0.],\n",
        "        [  0.,   0.,  15., ...,  15.,   0.,   0.],\n",
        "        ..., \n",
        "        [  0.,   4.,  16., ...,  16.,   6.,   0.],\n",
        "        [  0.,   8.,  16., ...,  16.,   8.,   0.],\n",
        "        [  0.,   1.,   8., ...,  12.,   1.,   0.]]]), 'data': array([[  0.,   0.,   5., ...,   0.,   0.,   0.],\n",
        "       [  0.,   0.,   0., ...,  10.,   0.,   0.],\n",
        "       [  0.,   0.,   0., ...,  16.,   9.,   0.],\n",
        "       ..., \n",
        "       [  0.,   0.,   1., ...,   6.,   0.,   0.],\n",
        "       [  0.,   0.,   2., ...,  12.,   0.,   0.],\n",
        "       [  0.,   0.,  10., ...,  12.,   1.,   0.]]), 'target_names': array([0, 1, 2, 3, 4, 5, 6, 7, 8, 9]), 'DESCR': \" Optical Recognition of Handwritten Digits Data Set\\n\\nNotes\\n-----\\nData Set Characteristics:\\n    :Number of Instances: 5620\\n    :Number of Attributes: 64\\n    :Attribute Information: 8x8 image of integer pixels in the range 0..16.\\n    :Missing Attribute Values: None\\n    :Creator: E. Alpaydin (alpaydin '@' boun.edu.tr)\\n    :Date: July; 1998\\n\\nThis is a copy of the test set of the UCI ML hand-written digits datasets\\nhttp://archive.ics.uci.edu/ml/datasets/Optical+Recognition+of+Handwritten+Digits\\n\\nThe data set contains images of hand-written digits: 10 classes where\\neach class refers to a digit.\\n\\nPreprocessing programs made available by NIST were used to extract\\nnormalized bitmaps of handwritten digits from a preprinted form. From a\\ntotal of 43 people, 30 contributed to the training set and different 13\\nto the test set. 32x32 bitmaps are divided into nonoverlapping blocks of\\n4x4 and the number of on pixels are counted in each block. This generates\\nan input matrix of 8x8 where each element is an integer in the range\\n0..16. This reduces dimensionality and gives invariance to small\\ndistortions.\\n\\nFor info on NIST preprocessing routines, see M. D. Garris, J. L. Blue, G.\\nT. Candela, D. L. Dimmick, J. Geist, P. J. Grother, S. A. Janet, and C.\\nL. Wilson, NIST Form-Based Handprint Recognition System, NISTIR 5469,\\n1994.\\n\\nReferences\\n----------\\n  - C. Kaynak (1995) Methods of Combining Multiple Classifiers and Their\\n    Applications to Handwritten Digit Recognition, MSc Thesis, Institute of\\n    Graduate Studies in Science and Engineering, Bogazici University.\\n  - E. Alpaydin, C. Kaynak (1998) Cascading Classifiers, Kybernetika.\\n  - Ken Tang and Ponnuthurai N. Suganthan and Xi Yao and A. Kai Qin.\\n    Linear dimensionalityreduction using relevance weighted LDA. School of\\n    Electrical and Electronic Engineering Nanyang Technological University.\\n    2005.\\n  - Claudio Gentile. A New Approximate Maximal Margin Classification\\n    Algorithm. NIPS. 2000.\\n\", 'target': array([0, 1, 2, ..., 8, 9, 8])}\n"
       ]
      }
     ],
     "prompt_number": 5
    },
    {
     "cell_type": "markdown",
     "metadata": {
      "internals": {
       "frag_helper": "fragment_end",
       "frag_number": 104
      },
      "slideshow": {
       "slide_type": "fragment"
      }
     },
     "source": [
      "Data sets in scikit learn are **dictionary-like** objects that hold \n",
      "\n",
      "* the data (in the `data` variable) as `n_samples`and `n_feature` array\n",
      "* the target/class labels `target` in case of a supervised learning data set\n",
      "* metadata - describing several properties"
     ]
    },
    {
     "cell_type": "code",
     "collapsed": false,
     "input": [
      "print digits.keys()"
     ],
     "language": "python",
     "metadata": {
      "internals": {
       "frag_helper": "fragment_end",
       "frag_number": 105
      },
      "slideshow": {
       "slide_type": "fragment"
      }
     },
     "outputs": [
      {
       "output_type": "stream",
       "stream": "stdout",
       "text": [
        "['images', 'data', 'target_names', 'DESCR', 'target']\n"
       ]
      }
     ],
     "prompt_number": 14
    },
    {
     "cell_type": "code",
     "collapsed": false,
     "input": [
      "print digits['data'], digits['target']"
     ],
     "language": "python",
     "metadata": {
      "internals": {
       "frag_helper": "fragment_end",
       "frag_number": 106
      },
      "slideshow": {
       "slide_type": "fragment"
      }
     },
     "outputs": [
      {
       "output_type": "stream",
       "stream": "stdout",
       "text": [
        "[[  0.   0.   5. ...,   0.   0.   0.]\n",
        " [  0.   0.   0. ...,  10.   0.   0.]\n",
        " [  0.   0.   0. ...,  16.   9.   0.]\n",
        " ..., \n",
        " [  0.   0.   1. ...,   6.   0.   0.]\n",
        " [  0.   0.   2. ...,  12.   0.   0.]\n",
        " [  0.   0.  10. ...,  12.   1.   0.]] [0 1 2 ..., 8 9 8]\n"
       ]
      }
     ],
     "prompt_number": 15
    },
    {
     "cell_type": "code",
     "collapsed": false,
     "input": [
      "print digits['target_names']"
     ],
     "language": "python",
     "metadata": {
      "internals": {
       "frag_helper": "fragment_end",
       "frag_number": 107
      },
      "slideshow": {
       "slide_type": "fragment"
      }
     },
     "outputs": [
      {
       "output_type": "stream",
       "stream": "stdout",
       "text": [
        "[0 1 2 3 4 5 6 7 8 9]\n"
       ]
      }
     ],
     "prompt_number": 17
    },
    {
     "cell_type": "code",
     "collapsed": false,
     "input": [
      "print digits['DESCR']"
     ],
     "language": "python",
     "metadata": {
      "internals": {
       "frag_helper": "fragment_end",
       "frag_number": 108
      },
      "slideshow": {
       "slide_type": "fragment"
      }
     },
     "outputs": [
      {
       "output_type": "stream",
       "stream": "stdout",
       "text": [
        " Optical Recognition of Handwritten Digits Data Set\n",
        "\n",
        "Notes\n",
        "-----\n",
        "Data Set Characteristics:\n",
        "    :Number of Instances: 5620\n",
        "    :Number of Attributes: 64\n",
        "    :Attribute Information: 8x8 image of integer pixels in the range 0..16.\n",
        "    :Missing Attribute Values: None\n",
        "    :Creator: E. Alpaydin (alpaydin '@' boun.edu.tr)\n",
        "    :Date: July; 1998\n",
        "\n",
        "This is a copy of the test set of the UCI ML hand-written digits datasets\n",
        "http://archive.ics.uci.edu/ml/datasets/Optical+Recognition+of+Handwritten+Digits\n",
        "\n",
        "The data set contains images of hand-written digits: 10 classes where\n",
        "each class refers to a digit.\n",
        "\n",
        "Preprocessing programs made available by NIST were used to extract\n",
        "normalized bitmaps of handwritten digits from a preprinted form. From a\n",
        "total of 43 people, 30 contributed to the training set and different 13\n",
        "to the test set. 32x32 bitmaps are divided into nonoverlapping blocks of\n",
        "4x4 and the number of on pixels are counted in each block. This generates\n",
        "an input matrix of 8x8 where each element is an integer in the range\n",
        "0..16. This reduces dimensionality and gives invariance to small\n",
        "distortions.\n",
        "\n",
        "For info on NIST preprocessing routines, see M. D. Garris, J. L. Blue, G.\n",
        "T. Candela, D. L. Dimmick, J. Geist, P. J. Grother, S. A. Janet, and C.\n",
        "L. Wilson, NIST Form-Based Handprint Recognition System, NISTIR 5469,\n",
        "1994.\n",
        "\n",
        "References\n",
        "----------\n",
        "  - C. Kaynak (1995) Methods of Combining Multiple Classifiers and Their\n",
        "    Applications to Handwritten Digit Recognition, MSc Thesis, Institute of\n",
        "    Graduate Studies in Science and Engineering, Bogazici University.\n",
        "  - E. Alpaydin, C. Kaynak (1998) Cascading Classifiers, Kybernetika.\n",
        "  - Ken Tang and Ponnuthurai N. Suganthan and Xi Yao and A. Kai Qin.\n",
        "    Linear dimensionalityreduction using relevance weighted LDA. School of\n",
        "    Electrical and Electronic Engineering Nanyang Technological University.\n",
        "    2005.\n",
        "  - Claudio Gentile. A New Approximate Maximal Margin Classification\n",
        "    Algorithm. NIPS. 2000.\n",
        "\n"
       ]
      }
     ],
     "prompt_number": 32
    },
    {
     "cell_type": "markdown",
     "metadata": {
      "internals": {
       "frag_helper": "fragment_end",
       "frag_number": 109
      },
      "slideshow": {
       "slide_type": "fragment"
      }
     },
     "source": [
      "Lets visualise some of the data to get an idea"
     ]
    },
    {
     "cell_type": "code",
     "collapsed": false,
     "input": [
      "%pylab inline\n",
      "import pylab as pl\n",
      "pl.figure()\n",
      "pl.subplot(1,4,1)\n",
      "pl.imshow(digits.images[0],cmap=pl.gray(),interpolation='nearest')\n",
      "pl.subplot(1,4,2)\n",
      "pl.imshow(digits.images[1],cmap=pl.gray(),interpolation='nearest')\n",
      "pl.subplot(1,4,3)\n",
      "pl.imshow(digits.images[2],cmap=pl.gray(),interpolation='nearest')\n",
      "pl.subplot(1,4,4)\n",
      "pl.imshow(digits.images[3],cmap=pl.gray(),interpolation='nearest')\n",
      "pl.show()"
     ],
     "language": "python",
     "metadata": {
      "internals": {
       "frag_helper": "fragment_end",
       "frag_number": 110
      },
      "slideshow": {
       "slide_type": "fragment"
      }
     },
     "outputs": [
      {
       "output_type": "stream",
       "stream": "stdout",
       "text": [
        "Populating the interactive namespace from numpy and matplotlib\n"
       ]
      },
      {
       "output_type": "stream",
       "stream": "stderr",
       "text": [
        "WARNING: pylab import has clobbered these variables: ['clf']\n",
        "`%matplotlib` prevents importing * from pylab and numpy\n"
       ]
      },
      {
       "metadata": {},
       "output_type": "display_data",
       "png": "[encoded data removed]",
       "text": [
        "<matplotlib.figure.Figure at 0x1125de910>"
       ]
      }
     ],
     "prompt_number": 67
    },
    {
     "cell_type": "markdown",
     "metadata": {
      "internals": {
       "frag_helper": "fragment_end",
       "frag_number": 111
      },
      "slideshow": {
       "slide_type": "fragment"
      }
     },
     "source": [
      "Now, we train a supervised classifier on the digits data. It is a Support Vector Machine (which will be introduced later, but for now its just calling the functions)"
     ]
    },
    {
     "cell_type": "code",
     "collapsed": false,
     "input": [
      "from sklearn import svm\n",
      "#instantiate the class with some parameters\n",
      "clf = svm.SVC(gamma=0.001, C=100.)\n",
      "#now we train/fit the model using the data and the target\n",
      "clf.fit(digits.data[:-1], digits.target[:-1])  "
     ],
     "language": "python",
     "metadata": {
      "internals": {
       "frag_helper": "fragment_end",
       "frag_number": 112
      },
      "slideshow": {
       "slide_type": "fragment"
      }
     },
     "outputs": [
      {
       "metadata": {},
       "output_type": "pyout",
       "prompt_number": 49,
       "text": [
        "SVC(C=100.0, cache_size=200, class_weight=None, coef0=0.0, degree=3,\n",
        "  gamma=0.001, kernel='rbf', max_iter=-1, probability=False,\n",
        "  random_state=None, shrinking=True, tol=0.001, verbose=False)"
       ]
      }
     ],
     "prompt_number": 49
    },
    {
     "cell_type": "code",
     "collapsed": false,
     "input": [
      "#now predict the what number the last image is\n",
      "clf.predict(digits.data[-3:])"
     ],
     "language": "python",
     "metadata": {
      "internals": {
       "frag_helper": "fragment_end",
       "frag_number": 113
      },
      "slideshow": {
       "slide_type": "fragment"
      }
     },
     "outputs": [
      {
       "metadata": {},
       "output_type": "pyout",
       "prompt_number": 61,
       "text": [
        "array([8, 9, 8])"
       ]
      }
     ],
     "prompt_number": 61
    },
    {
     "cell_type": "code",
     "collapsed": false,
     "input": [
      "print digits.target[-3:]"
     ],
     "language": "python",
     "metadata": {
      "internals": {
       "frag_helper": "fragment_end",
       "frag_number": 114
      },
      "slideshow": {
       "slide_type": "fragment"
      }
     },
     "outputs": [
      {
       "output_type": "stream",
       "stream": "stdout",
       "text": [
        "[8 9 8]\n"
       ]
      }
     ],
     "prompt_number": 62
    },
    {
     "cell_type": "code",
     "collapsed": false,
     "input": [
      "#lets see if the classifier did it right?\n",
      "pl.figure()\n",
      "pl.subplot(1,3,1)\n",
      "pl.imshow(digits.images[-3],cmap=pl.gray(),interpolation='nearest')\n",
      "pl.subplot(1,3,2)\n",
      "pl.imshow(digits.images[-2],cmap=pl.gray(),interpolation='nearest')\n",
      "pl.subplot(1,3,3)\n",
      "pl.imshow(digits.images[-1],cmap=pl.gray(),interpolation='nearest')\n",
      "pl.show()"
     ],
     "language": "python",
     "metadata": {
      "internals": {
       "frag_helper": "fragment_end",
       "frag_number": 115
      },
      "slideshow": {
       "slide_type": "fragment"
      }
     },
     "outputs": [
      {
       "ename": "NameError",
       "evalue": "name 'pl' is not defined",
       "output_type": "pyerr",
       "traceback": [
        "\u001b[0;31m---------------------------------------------------------------------------\u001b[0m\n\u001b[0;31mNameError\u001b[0m                                 Traceback (most recent call last)",
        "\u001b[0;32m<ipython-input-1-42a7fc00f73c>\u001b[0m in \u001b[0;36m<module>\u001b[0;34m()\u001b[0m\n\u001b[1;32m      1\u001b[0m \u001b[0;31m#lets see if the classifier did it right?\u001b[0m\u001b[0;34m\u001b[0m\u001b[0;34m\u001b[0m\u001b[0m\n\u001b[0;32m----> 2\u001b[0;31m \u001b[0mpl\u001b[0m\u001b[0;34m.\u001b[0m\u001b[0mfigure\u001b[0m\u001b[0;34m(\u001b[0m\u001b[0;34m)\u001b[0m\u001b[0;34m\u001b[0m\u001b[0m\n\u001b[0m\u001b[1;32m      3\u001b[0m \u001b[0mpl\u001b[0m\u001b[0;34m.\u001b[0m\u001b[0msubplot\u001b[0m\u001b[0;34m(\u001b[0m\u001b[0;36m1\u001b[0m\u001b[0;34m,\u001b[0m\u001b[0;36m3\u001b[0m\u001b[0;34m,\u001b[0m\u001b[0;36m1\u001b[0m\u001b[0;34m)\u001b[0m\u001b[0;34m\u001b[0m\u001b[0m\n\u001b[1;32m      4\u001b[0m \u001b[0mpl\u001b[0m\u001b[0;34m.\u001b[0m\u001b[0mimshow\u001b[0m\u001b[0;34m(\u001b[0m\u001b[0mdigits\u001b[0m\u001b[0;34m.\u001b[0m\u001b[0mimages\u001b[0m\u001b[0;34m[\u001b[0m\u001b[0;34m-\u001b[0m\u001b[0;36m3\u001b[0m\u001b[0;34m]\u001b[0m\u001b[0;34m,\u001b[0m\u001b[0mcmap\u001b[0m\u001b[0;34m=\u001b[0m\u001b[0mpl\u001b[0m\u001b[0;34m.\u001b[0m\u001b[0mgray\u001b[0m\u001b[0;34m(\u001b[0m\u001b[0;34m)\u001b[0m\u001b[0;34m,\u001b[0m\u001b[0minterpolation\u001b[0m\u001b[0;34m=\u001b[0m\u001b[0;34m'nearest'\u001b[0m\u001b[0;34m)\u001b[0m\u001b[0;34m\u001b[0m\u001b[0m\n\u001b[1;32m      5\u001b[0m \u001b[0mpl\u001b[0m\u001b[0;34m.\u001b[0m\u001b[0msubplot\u001b[0m\u001b[0;34m(\u001b[0m\u001b[0;36m1\u001b[0m\u001b[0;34m,\u001b[0m\u001b[0;36m3\u001b[0m\u001b[0;34m,\u001b[0m\u001b[0;36m2\u001b[0m\u001b[0;34m)\u001b[0m\u001b[0;34m\u001b[0m\u001b[0m\n",
        "\u001b[0;31mNameError\u001b[0m: name 'pl' is not defined"
       ]
      }
     ],
     "prompt_number": 1
    },
    {
     "cell_type": "code",
     "collapsed": false,
     "input": [
      "#Stuff for presentation\n",
      "#loads section numbering https://github.com/ipython/ipython/wiki/Extensions-Index\n",
      "%reload_ext secnum\n",
      "%secnum"
     ],
     "language": "python",
     "metadata": {
      "internals": {
       "frag_helper": "fragment_end",
       "frag_number": 115
      },
      "slideshow": {
       "slide_type": "skip"
      }
     },
     "outputs": [
      {
       "javascript": [
        "console.log(\"Section numbering...\");\n",
        "\n",
        "function number_sections(threshold) {\n",
        "\n",
        "  var h1_number = 0;\n",
        "  var h2_number = 0;\n",
        "\n",
        "  if (threshold === undefined) {\n",
        "    threshold = 2;  // does nothing so far\n",
        "  }\n",
        "\n",
        "  var cells = IPython.notebook.get_cells();\n",
        "  \n",
        "  for (var i=0; i < cells.length; i++) {\n",
        "\n",
        "    var cell = cells[i];\n",
        "    if (cell.cell_type !== 'heading') continue;\n",
        "    \n",
        "    var level = cell.level;\n",
        "    if (level > threshold) continue;\n",
        "    \n",
        "    if (level === 1) {\n",
        "        \n",
        "        h1_number ++;\n",
        "        var h1_element = cell.element.find('h1');\n",
        "        var h1_html = h1_element.html();\n",
        "        \n",
        "        console.log(\"h1_html: \" + h1_html);\n",
        "\n",
        "        var patt = /^[0-9]+\\.\\s(.*)/;   // section number at start of string\n",
        "        var title = h1_html.match(patt);  // just the title\n",
        "\n",
        "        if (title != null) {  \n",
        "          h1_element.html(h1_number + \". \" + title[1]);\n",
        "        }\n",
        "        else {\n",
        "          h1_element.html(h1_number + \". \" + h1_html);\n",
        "        }\n",
        "        \n",
        "        h2_number = 0;\n",
        "        \n",
        "    }\n",
        "    \n",
        "    if (level === 2) {\n",
        "    \n",
        "        h2_number ++;\n",
        "        \n",
        "        var h2_element = cell.element.find('h2');\n",
        "        var h2_html = h2_element.html();\n",
        "\n",
        "        console.log(\"h2_html: \" + h2_html);\n",
        "\n",
        "        \n",
        "        var patt = /^[0-9]+\\.[0-9]+\\.\\s/;\n",
        "        var result = h2_html.match(patt);\n",
        "\n",
        "        if (result != null) {\n",
        "          h2_html = h2_html.replace(result, \"\");\n",
        "        }\n",
        "\n",
        "        h2_element.html(h1_number + \".\" + h2_number + \". \" + h2_html);\n",
        "        \n",
        "    }\n",
        "    \n",
        "  }\n",
        "  \n",
        "}\n",
        "\n",
        "number_sections();\n",
        "\n",
        "// $([IPython.evnts]).on('create.Cell', number_sections);\n",
        "\n",
        "$([IPython.events]).on('selected_cell_type_changed.Notebook', number_sections);\n",
        "\n"
       ],
       "metadata": {},
       "output_type": "display_data"
      }
     ],
     "prompt_number": 2
    },
    {
     "cell_type": "code",
     "collapsed": false,
     "input": [],
     "language": "python",
     "metadata": {
      "internals": {
       "frag_helper": "fragment_end",
       "frag_number": 115,
       "slide_helper": "subslide_end"
      },
      "slide_helper": "slide_end",
      "slideshow": {
       "slide_type": "-"
      }
     },
     "outputs": []
    }
   ],
   "metadata": {}
  }
 ]
}